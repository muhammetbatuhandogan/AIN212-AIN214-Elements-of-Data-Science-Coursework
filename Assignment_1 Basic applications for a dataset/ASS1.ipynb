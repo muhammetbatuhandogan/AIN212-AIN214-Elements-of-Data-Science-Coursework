{
 "cells": [
  {
   "cell_type": "markdown",
   "metadata": {
    "id": "er4raFFXegKZ"
   },
   "source": [
    "# AIN 214 - PA1 - FALL 2023\n",
    "\n",
    "BELOW MD CELLS CONTAIN THE QUESTIONS YOU ARE ASKED TO IMPLEMENT WITHIN THE CONTEXT OF THIS HW. PLEASE FILL IN THE CELLS FOR THE ANSWERS RIGHT BELOW THE MD CELL OF THE QUESTION. YOU CAN ADD AS MANY CELLS AS YOU WANT, BE IT CODE OR MD, SO LONG AS YOU PROVIDE AN UNDERSTANDABLE AND TRACBLE REPORTING. PLEASE ADD COMMENTS ON YOUR CODES. ALSO, FILL IN MD CELLS WHERE YOU ARE ASKED YO COMMENT ON YOUR RESULTS OR EPXLAIN YOUR REASONING. ALSO, PLEASE DO NO HESITATE TO USE THEM FOR YOUR OWN REPORTING PURPOSES. PLEASE KEEP IN MIND THAT, REPORTING IS A KEY STEP IN DATA SCIENCE.\n",
    "\n",
    "Deadline: 03.11.2023 (23:59:59)\n",
    "\n",
    "Submission: Submit your Jupyter Notebooks via https://submit.cs.hacettepe.edu.tr/\n"
   ]
  },
  {
   "cell_type": "markdown",
   "metadata": {
    "id": "0aQNwQ3tegKf"
   },
   "source": [
    "# Necessary Imports"
   ]
  },
  {
   "cell_type": "code",
   "execution_count": 62,
   "metadata": {
    "id": "JznwE-JkegKg"
   },
   "outputs": [],
   "source": [
    "import numpy as np\n",
    "import pandas as pd\n",
    "from sqlite3 import connect\n",
    "import sqlite3\n",
    "import os\n",
    "\n"
   ]
  },
  {
   "cell_type": "markdown",
   "metadata": {
    "id": "NY1SiwKOegKi"
   },
   "source": [
    "# Notes:\n",
    "* Use pandas dataframe (df) to load the data.\n",
    "* Use numpy or pandas operations for the requested tasks unless otherwise specified. Use of naive for loops is not considered valid.\n",
    "* For the db operations, use sqlite3 library in Python"
   ]
  },
  {
   "cell_type": "markdown",
   "metadata": {
    "id": "U6S7o6zSegKi"
   },
   "source": [
    "# 1st Set of Questions on Boston Housing Dataset **(30 Pts)**\n",
    "\n",
    "* Retrieved from KAGGLE\n",
    "* **Dataset Path: \"Data/BostonHousing.csv\"**"
   ]
  },
  {
   "cell_type": "markdown",
   "metadata": {
    "id": "n01FHHEZegKj"
   },
   "source": [
    "## Q1. Basic Data Exploration **(10 Pts)**\n",
    "1. Load the data into Pandas DataFrame and print the column names. **(1 pts)**\n",
    "2. Display the first and last 10 rows of the dataset. **(1 pts)**\n",
    "3. Display random 10 rows. **(1 pts)**\n",
    "4. Display random 10 rows with a seed, ie, it outputs the same random rows everytime it is run. **(1 pts)**\n",
    "5. Display every 15th row. **(1 pts)**\n",
    "6. Get the summary stats of the dataset regarding each column. **(2 pts)**\n",
    "7. Identify and count the number of missing values in each column. **(3 pts)**"
   ]
  },
  {
   "cell_type": "code",
   "execution_count": 63,
   "metadata": {},
   "outputs": [],
   "source": [
    "\n",
    "os.chdir(r'C:\\Users\\mbdn1\\Desktop') # i change my directory to access the file."
   ]
  },
  {
   "cell_type": "markdown",
   "metadata": {},
   "source": [
    "\"Data/BostonHousing.csv\" i try to use this path but it did not work then i use \"BostonHousing.csv\" this path and it worked."
   ]
  },
  {
   "cell_type": "code",
   "execution_count": 64,
   "metadata": {
    "id": "VP1ORn_tegKj"
   },
   "outputs": [
    {
     "name": "stdout",
     "output_type": "stream",
     "text": [
      "Index(['crim', 'zn', 'indus', 'chas', 'nox', 'rm', 'age', 'dis', 'rad', 'tax',\n",
      "       'ptratio', 'b', 'lstat', 'medv'],\n",
      "      dtype='object')\n"
     ]
    }
   ],
   "source": [
    "# Load the data into Pandas DataFrame and print the column names\n",
    "\n",
    "BH_df = pd.read_csv(\"BostonHousing.csv\") # i load the data file.\n",
    "\n",
    "print(BH_df.columns) # i print columns name of Boston Housing Dataset.\n",
    "\n",
    "\n"
   ]
  },
  {
   "cell_type": "code",
   "execution_count": 65,
   "metadata": {
    "id": "yPYXCGLpegKk"
   },
   "outputs": [
    {
     "name": "stdout",
     "output_type": "stream",
     "text": [
      "first 10 rows\n",
      "      crim    zn  indus  chas    nox     rm    age     dis  rad  tax  ptratio  \\\n",
      "0  0.00632  18.0   2.31     0  0.538  6.575   65.2  4.0900    1  296     15.3   \n",
      "1  0.02731   0.0   7.07     0  0.469  6.421   78.9  4.9671    2  242     17.8   \n",
      "2  0.02729   0.0   7.07     0  0.469  7.185   61.1  4.9671    2  242     17.8   \n",
      "3  0.03237   0.0   2.18     0  0.458  6.998   45.8  6.0622    3  222     18.7   \n",
      "4  0.06905   0.0   2.18     0  0.458  7.147   54.2  6.0622    3  222     18.7   \n",
      "5  0.02985   0.0   2.18     0  0.458  6.430   58.7  6.0622    3  222     18.7   \n",
      "6  0.08829  12.5   7.87     0  0.524  6.012   66.6  5.5605    5  311     15.2   \n",
      "7  0.14455  12.5   7.87     0  0.524  6.172   96.1  5.9505    5  311     15.2   \n",
      "8  0.21124  12.5   7.87     0  0.524  5.631  100.0  6.0821    5  311     15.2   \n",
      "9  0.17004  12.5   7.87     0  0.524  6.004   85.9  6.5921    5  311     15.2   \n",
      "\n",
      "        b  lstat  medv  \n",
      "0  396.90   4.98  24.0  \n",
      "1  396.90   9.14  21.6  \n",
      "2  392.83   4.03  34.7  \n",
      "3  394.63   2.94  33.4  \n",
      "4  396.90   5.33  36.2  \n",
      "5  394.12   5.21  28.7  \n",
      "6  395.60  12.43  22.9  \n",
      "7  396.90  19.15  27.1  \n",
      "8  386.63  29.93  16.5  \n",
      "9  386.71  17.10  18.9  \n",
      "\n",
      "\n",
      "last 10 rows\n",
      "        crim   zn  indus  chas    nox     rm   age     dis  rad  tax  ptratio  \\\n",
      "496  0.28960  0.0   9.69     0  0.585  5.390  72.9  2.7986    6  391     19.2   \n",
      "497  0.26838  0.0   9.69     0  0.585  5.794  70.6  2.8927    6  391     19.2   \n",
      "498  0.23912  0.0   9.69     0  0.585  6.019  65.3  2.4091    6  391     19.2   \n",
      "499  0.17783  0.0   9.69     0  0.585  5.569  73.5  2.3999    6  391     19.2   \n",
      "500  0.22438  0.0   9.69     0  0.585  6.027  79.7  2.4982    6  391     19.2   \n",
      "501  0.06263  0.0  11.93     0  0.573  6.593  69.1  2.4786    1  273     21.0   \n",
      "502  0.04527  0.0  11.93     0  0.573  6.120  76.7  2.2875    1  273     21.0   \n",
      "503  0.06076  0.0  11.93     0  0.573  6.976  91.0  2.1675    1  273     21.0   \n",
      "504  0.10959  0.0  11.93     0  0.573  6.794  89.3  2.3889    1  273     21.0   \n",
      "505  0.04741  0.0  11.93     0  0.573  6.030  80.8  2.5050    1  273     21.0   \n",
      "\n",
      "          b  lstat  medv  \n",
      "496  396.90  21.14  19.7  \n",
      "497  396.90  14.10  18.3  \n",
      "498  396.90  12.92  21.2  \n",
      "499  395.77  15.10  17.5  \n",
      "500  396.90  14.33  16.8  \n",
      "501  391.99   9.67  22.4  \n",
      "502  396.90   9.08  20.6  \n",
      "503  396.90   5.64  23.9  \n",
      "504  393.45   6.48  22.0  \n",
      "505  396.90   7.88  11.9  \n"
     ]
    }
   ],
   "source": [
    "# Display the first and last 10 rows of the dataset.\n",
    "print(\"first 10 rows\")\n",
    "print(BH_df.head(10))  # using head function i get first 10 rows.\n",
    "print(\"\\n\") # I left spaces for easier understanding and visibility. \n",
    "print(\"last 10 rows\")\n",
    "print(BH_df.tail(10)) # using tail function i get last 10 rows."
   ]
  },
  {
   "cell_type": "code",
   "execution_count": 66,
   "metadata": {
    "id": "_IPaz-maegKk"
   },
   "outputs": [
    {
     "name": "stdout",
     "output_type": "stream",
     "text": [
      "        crim     zn  indus  chas    nox     rm   age     dis  rad  tax  \\\n",
      "136  0.32264    0.0  21.89     0  0.624  5.942  93.5  1.9669    4  437   \n",
      "461  3.69311    0.0  18.10     0  0.713  6.376  88.4  2.5671   24  666   \n",
      "57   0.01432  100.0   1.32     0  0.411  6.816  40.5  8.3248    5  256   \n",
      "500  0.22438    0.0   9.69     0  0.585  6.027  79.7  2.4982    6  391   \n",
      "334  0.03738    0.0   5.19     0  0.515  6.310  38.5  6.4584    5  224   \n",
      "107  0.13117    0.0   8.56     0  0.520  6.127  85.2  2.1224    5  384   \n",
      "459  6.80117    0.0  18.10     0  0.713  6.081  84.4  2.7175   24  666   \n",
      "208  0.13587    0.0  10.59     1  0.489  6.064  59.1  4.2392    4  277   \n",
      "196  0.04011   80.0   1.52     0  0.404  7.287  34.1  7.3090    2  329   \n",
      "234  0.44791    0.0   6.20     1  0.507  6.726  66.5  3.6519    8  307   \n",
      "\n",
      "     ptratio       b  lstat  medv  \n",
      "136     21.2  378.25  16.90  17.4  \n",
      "461     20.2  391.43  14.65  17.7  \n",
      "57      15.1  392.90   3.95  31.6  \n",
      "500     19.2  396.90  14.33  16.8  \n",
      "334     20.2  389.40   6.75  20.7  \n",
      "107     20.9  387.69  14.09  20.4  \n",
      "459     20.2  396.90  14.70  20.0  \n",
      "208     18.6  381.32  14.66  24.4  \n",
      "196     12.6  396.90   4.08  33.3  \n",
      "234     17.4  360.20   8.05  29.0  \n"
     ]
    }
   ],
   "source": [
    "# Display the random 10 rows\n",
    "print(BH_df.sample(10)) # using sample method to display randomly 10 rows."
   ]
  },
  {
   "cell_type": "code",
   "execution_count": 67,
   "metadata": {
    "id": "s3nFL031egKl"
   },
   "outputs": [
    {
     "name": "stdout",
     "output_type": "stream",
     "text": [
      "        crim    zn  indus  chas    nox     rm    age     dis  rad  tax  \\\n",
      "307  0.04932  33.0   2.18     0  0.472  6.849   70.3  3.1827    7  222   \n",
      "343  0.02543  55.0   3.78     0  0.484  6.696   56.4  5.7321    5  370   \n",
      "47   0.22927   0.0   6.91     0  0.448  6.030   85.5  5.6894    3  233   \n",
      "67   0.05789  12.5   6.07     0  0.409  5.878   21.4  6.4980    4  345   \n",
      "362  3.67822   0.0  18.10     0  0.770  5.362   96.2  2.1036   24  666   \n",
      "132  0.59005   0.0  21.89     0  0.624  6.372   97.9  2.3274    4  437   \n",
      "292  0.03615  80.0   4.95     0  0.411  6.630   23.4  5.1167    4  245   \n",
      "31   1.35472   0.0   8.14     0  0.538  6.072  100.0  4.1750    4  307   \n",
      "218  0.11069   0.0  13.89     1  0.550  5.951   93.8  2.8893    5  276   \n",
      "90   0.04684   0.0   3.41     0  0.489  6.417   66.1  3.0923    2  270   \n",
      "\n",
      "     ptratio       b  lstat  medv  \n",
      "307     18.4  396.90   7.53  28.2  \n",
      "343     17.6  396.90   7.18  23.9  \n",
      "47      17.9  392.74  18.80  16.6  \n",
      "67      18.9  396.21   8.10  22.0  \n",
      "362     20.2  380.79  10.19  20.8  \n",
      "132     21.2  385.76  11.12  23.0  \n",
      "292     19.2  396.90   4.70  27.9  \n",
      "31      21.0  376.73  13.04  14.5  \n",
      "218     16.4  396.90  17.92  21.5  \n",
      "90      17.8  392.18   8.81  22.6  \n"
     ]
    }
   ],
   "source": [
    "# sample using seed\n",
    "print((BH_df.sample(10, random_state = 1))) # i use random_state parameter to ensure the reproducibility."
   ]
  },
  {
   "cell_type": "code",
   "execution_count": 68,
   "metadata": {
    "id": "DaK9QTNJegKl"
   },
   "outputs": [
    {
     "name": "stdout",
     "output_type": "stream",
     "text": [
      "         crim    zn  indus  chas    nox     rm    age     dis  rad  tax  \\\n",
      "0     0.00632  18.0   2.31     0  0.538  6.575   65.2  4.0900    1  296   \n",
      "15    0.62739   0.0   8.14     0  0.538  5.834   56.5  4.4986    4  307   \n",
      "30    1.13081   0.0   8.14     0  0.538  5.713   94.1  4.2330    4  307   \n",
      "45    0.17142   0.0   6.91     0  0.448  5.682   33.8  5.1004    3  233   \n",
      "60    0.14932  25.0   5.13     0  0.453  5.741   66.2  7.2254    8  284   \n",
      "75    0.09512   0.0  12.83     0  0.437  6.286   45.0  4.5026    5  398   \n",
      "90    0.04684   0.0   3.41     0  0.489  6.417   66.1  3.0923    2  270   \n",
      "105   0.13262   0.0   8.56     0  0.520  5.851   96.7  2.1069    5  384   \n",
      "120   0.06899   0.0  25.65     0  0.581  5.870   69.7  2.2577    2  188   \n",
      "135   0.55778   0.0  21.89     0  0.624  6.335   98.2  2.1107    4  437   \n",
      "150   1.65660   0.0  19.58     0  0.871  6.122   97.3  1.6180    5  403   \n",
      "165   2.92400   0.0  19.58     0  0.605  6.101   93.0  2.2834    5  403   \n",
      "180   0.06588   0.0   2.46     0  0.488  7.765   83.3  2.7410    3  193   \n",
      "195   0.01381  80.0   0.46     0  0.422  7.875   32.0  5.6484    4  255   \n",
      "210   0.17446   0.0  10.59     1  0.489  5.960   92.1  3.8771    4  277   \n",
      "225   0.52693   0.0   6.20     0  0.504  8.725   83.0  2.8944    8  307   \n",
      "240   0.11329  30.0   4.93     0  0.428  6.897   54.3  6.3361    6  300   \n",
      "255   0.03548  80.0   3.64     0  0.392  5.876   19.1  9.2203    1  315   \n",
      "270   0.29916  20.0   6.96     0  0.464  5.856   42.1  4.4290    3  223   \n",
      "285   0.01096  55.0   2.25     0  0.389  6.453   31.9  7.3073    1  300   \n",
      "300   0.04417  70.0   2.24     0  0.400  6.871   47.4  7.8278    5  358   \n",
      "315   0.25356   0.0   9.90     0  0.544  5.705   77.7  3.9450    4  304   \n",
      "330   0.04544   0.0   3.24     0  0.460  6.144   32.2  5.8736    4  430   \n",
      "345   0.03113   0.0   4.39     0  0.442  6.014   48.5  8.0136    3  352   \n",
      "360   4.54192   0.0  18.10     0  0.770  6.398   88.0  2.5182   24  666   \n",
      "375  19.60910   0.0  18.10     0  0.671  7.313   97.9  1.3163   24  666   \n",
      "390   6.96215   0.0  18.10     0  0.700  5.713   97.0  1.9265   24  666   \n",
      "405  67.92080   0.0  18.10     0  0.693  5.683  100.0  1.4254   24  666   \n",
      "420  11.08740   0.0  18.10     0  0.718  6.411  100.0  1.8589   24  666   \n",
      "435  11.16040   0.0  18.10     0  0.740  6.629   94.6  2.1247   24  666   \n",
      "450   6.71772   0.0  18.10     0  0.713  6.749   92.6  2.3236   24  666   \n",
      "465   3.16360   0.0  18.10     0  0.655  5.759   48.2  3.0665   24  666   \n",
      "480   5.82401   0.0  18.10     0  0.532  6.242   64.7  3.4242   24  666   \n",
      "495   0.17899   0.0   9.69     0  0.585  5.670   28.8  2.7986    6  391   \n",
      "\n",
      "     ptratio       b  lstat  medv  \n",
      "0       15.3  396.90   4.98  24.0  \n",
      "15      21.0  395.62   8.47  19.9  \n",
      "30      21.0  360.17  22.60  12.7  \n",
      "45      17.9  396.90  10.21  19.3  \n",
      "60      19.7  395.11  13.15  18.7  \n",
      "75      18.7  383.23   8.94  21.4  \n",
      "90      17.8  392.18   8.81  22.6  \n",
      "105     20.9  394.05  16.47  19.5  \n",
      "120     19.1  389.15  14.37  22.0  \n",
      "135     21.2  394.67  16.96  18.1  \n",
      "150     14.7  372.80  14.10  21.5  \n",
      "165     14.7  240.16   9.81  25.0  \n",
      "180     17.8  395.56   7.56  39.8  \n",
      "195     14.4  394.23   2.97  50.0  \n",
      "210     18.6  393.25  17.27  21.7  \n",
      "225     17.4  382.00   4.63  50.0  \n",
      "240     16.6  391.25  11.38  22.0  \n",
      "255     16.4  395.18   9.25  20.9  \n",
      "270     18.6  388.65  13.00  21.1  \n",
      "285     15.3  394.72   8.23  22.0  \n",
      "300     14.8  390.86   6.07  24.8  \n",
      "315     18.4  396.42  11.50  16.2  \n",
      "330     16.9  368.57   9.09  19.8  \n",
      "345     18.8  385.64  10.53  17.5  \n",
      "360     20.2  374.56   7.79  25.0  \n",
      "375     20.2  396.90  13.44  15.0  \n",
      "390     20.2  394.43  17.11  15.1  \n",
      "405     20.2  384.97  22.98   5.0  \n",
      "420     20.2  318.75  15.02  16.7  \n",
      "435     20.2  109.85  23.27  13.4  \n",
      "450     20.2    0.32  17.44  13.4  \n",
      "465     20.2  334.40  14.13  19.9  \n",
      "480     20.2  396.90  10.74  23.0  \n",
      "495     19.2  393.29  17.60  23.1  \n"
     ]
    }
   ],
   "source": [
    "# Display every 15th row\n",
    "print(BH_df.iloc[::15]) # using slicing method '::' i got every 15th row."
   ]
  },
  {
   "cell_type": "code",
   "execution_count": 69,
   "metadata": {
    "id": "PtecOU-DegKm"
   },
   "outputs": [
    {
     "name": "stdout",
     "output_type": "stream",
     "text": [
      "             crim          zn       indus        chas         nox          rm  \\\n",
      "count  506.000000  506.000000  506.000000  506.000000  506.000000  506.000000   \n",
      "mean     3.613524   11.363636   11.136779    0.069170    0.554695    6.284634   \n",
      "std      8.601545   23.322453    6.860353    0.253994    0.115878    0.702617   \n",
      "min      0.006320    0.000000    0.460000    0.000000    0.385000    3.561000   \n",
      "25%      0.082045    0.000000    5.190000    0.000000    0.449000    5.885500   \n",
      "50%      0.256510    0.000000    9.690000    0.000000    0.538000    6.208500   \n",
      "75%      3.677083   12.500000   18.100000    0.000000    0.624000    6.623500   \n",
      "max     88.976200  100.000000   27.740000    1.000000    0.871000    8.780000   \n",
      "\n",
      "              age         dis         rad         tax     ptratio           b  \\\n",
      "count  506.000000  506.000000  506.000000  506.000000  506.000000  506.000000   \n",
      "mean    68.574901    3.795043    9.549407  408.237154   18.455534  356.674032   \n",
      "std     28.148861    2.105710    8.707259  168.537116    2.164946   91.294864   \n",
      "min      2.900000    1.129600    1.000000  187.000000   12.600000    0.320000   \n",
      "25%     45.025000    2.100175    4.000000  279.000000   17.400000  375.377500   \n",
      "50%     77.500000    3.207450    5.000000  330.000000   19.050000  391.440000   \n",
      "75%     94.075000    5.188425   24.000000  666.000000   20.200000  396.225000   \n",
      "max    100.000000   12.126500   24.000000  711.000000   22.000000  396.900000   \n",
      "\n",
      "            lstat        medv  \n",
      "count  506.000000  506.000000  \n",
      "mean    12.653063   22.532806  \n",
      "std      7.141062    9.197104  \n",
      "min      1.730000    5.000000  \n",
      "25%      6.950000   17.025000  \n",
      "50%     11.360000   21.200000  \n",
      "75%     16.955000   25.000000  \n",
      "max     37.970000   50.000000  \n"
     ]
    }
   ],
   "source": [
    "# Get the summary stats of the dataset regarding each column\n",
    "print(BH_df.describe()) # describe method give summaries for columns."
   ]
  },
  {
   "cell_type": "code",
   "execution_count": 70,
   "metadata": {
    "id": "cz3aje2QegKm"
   },
   "outputs": [
    {
     "name": "stdout",
     "output_type": "stream",
     "text": [
      "crim       0\n",
      "zn         0\n",
      "indus      0\n",
      "chas       0\n",
      "nox        0\n",
      "rm         0\n",
      "age        0\n",
      "dis        0\n",
      "rad        0\n",
      "tax        0\n",
      "ptratio    0\n",
      "b          0\n",
      "lstat      0\n",
      "medv       0\n",
      "dtype: int64\n"
     ]
    }
   ],
   "source": [
    "# Identify and count the number of missing values in each column\n",
    "print(BH_df.isnull().sum()) # i use isnull() method if there is not a value or Nan value.Then use sum() for count NaN values."
   ]
  },
  {
   "cell_type": "markdown",
   "metadata": {
    "id": "RNuX5mqtegKm"
   },
   "source": [
    "## Q2. Data Filtering (10 pts)\n",
    "\n",
    "1. Extract records where the rm (average number of rooms per dwelling) >= 7.   **(2 pts)**\n",
    "2. Extract records located along the Charles River (chas = 1) and have a crime rate (crim) less than the median crime rate of the dataset.  **(2 pts)**\n",
    "3. Identify neighborhoods where the average rm is greater than 6, the lstat (% lower status of the population) is below 10, and the medv is above the 75th percentile of the dataset. This would give neighborhoods with relatively larger homes, lower \"lower-status\" population percentage, and higher median values.  **(2 pts)**\n",
    "4. Identify records where the dis (weighted distances to five Boston employment centers) is in the top 10% of the dataset and the nox (nitric oxides concentration) is in the bottom 10%, indicating neighborhoods that are farther from employment centers and have cleaner air.  **(2 pts)**\n",
    "5. From the houses built before 1940 (AGE column), select those which fall in the top 20% in terms of nitric oxide concentrations (NOX). From this subset, retrieve the bottom 10 records with the lowest MEDV values.  **(2 pts)**"
   ]
  },
  {
   "cell_type": "code",
   "execution_count": 71,
   "metadata": {
    "id": "LtaO1OgRegKm"
   },
   "outputs": [
    {
     "name": "stdout",
     "output_type": "stream",
     "text": [
      "         crim    zn  indus  chas     nox     rm   age     dis  rad  tax  \\\n",
      "2     0.02729   0.0   7.07     0  0.4690  7.185  61.1  4.9671    2  242   \n",
      "4     0.06905   0.0   2.18     0  0.4580  7.147  54.2  6.0622    3  222   \n",
      "40    0.03359  75.0   2.95     0  0.4280  7.024  15.8  5.4011    3  252   \n",
      "55    0.01311  90.0   1.22     0  0.4030  7.249  21.9  8.6966    5  226   \n",
      "64    0.01951  17.5   1.38     0  0.4161  7.104  59.5  9.2229    3  216   \n",
      "..        ...   ...    ...   ...     ...    ...   ...     ...  ...  ...   \n",
      "364   3.47428   0.0  18.10     1  0.7180  8.780  82.9  1.9047   24  666   \n",
      "370   6.53876   0.0  18.10     1  0.6310  7.016  97.5  1.2024   24  666   \n",
      "375  19.60910   0.0  18.10     0  0.6710  7.313  97.9  1.3163   24  666   \n",
      "453   8.24809   0.0  18.10     0  0.7130  7.393  99.3  2.4527   24  666   \n",
      "482   5.73116   0.0  18.10     0  0.5320  7.061  77.0  3.4106   24  666   \n",
      "\n",
      "     ptratio       b  lstat  medv  \n",
      "2       17.8  392.83   4.03  34.7  \n",
      "4       18.7  396.90   5.33  36.2  \n",
      "40      18.3  395.62   1.98  34.9  \n",
      "55      17.9  395.93   4.81  35.4  \n",
      "64      18.6  393.24   8.05  33.0  \n",
      "..       ...     ...    ...   ...  \n",
      "364     20.2  354.55   5.29  21.9  \n",
      "370     20.2  392.05   2.96  50.0  \n",
      "375     20.2  396.90  13.44  15.0  \n",
      "453     20.2  375.87  16.74  17.8  \n",
      "482     20.2  395.28   7.01  25.0  \n",
      "\n",
      "[64 rows x 14 columns]\n"
     ]
    },
    {
     "data": {
      "text/plain": [
       "\" [BH_df['RM'] >= 7] this part return a boolean value if is true we took this part from dataframe\""
      ]
     },
     "execution_count": 71,
     "metadata": {},
     "output_type": "execute_result"
    }
   ],
   "source": [
    "# Extract records where the rm >= 7\n",
    "print(BH_df[BH_df['rm'] >= 7]) \n",
    "\"\"\" [BH_df['RM'] >= 7] this part return a boolean value if is true we took this part from dataframe\"\"\""
   ]
  },
  {
   "cell_type": "code",
   "execution_count": 72,
   "metadata": {
    "id": "eQEhqTaiegKn"
   },
   "outputs": [
    {
     "name": "stdout",
     "output_type": "stream",
     "text": [
      "        crim    zn  indus  chas     nox     rm   age     dis  rad  tax  \\\n",
      "208  0.13587   0.0  10.59     1  0.4890  6.064  59.1  4.2392    4  277   \n",
      "210  0.17446   0.0  10.59     1  0.4890  5.960  92.1  3.8771    4  277   \n",
      "212  0.21719   0.0  10.59     1  0.4890  5.807  53.8  3.6526    4  277   \n",
      "216  0.04560   0.0  13.89     1  0.5500  5.888  56.0  3.1121    5  276   \n",
      "218  0.11069   0.0  13.89     1  0.5500  5.951  93.8  2.8893    5  276   \n",
      "219  0.11425   0.0  13.89     1  0.5500  6.373  92.4  3.3633    5  276   \n",
      "269  0.09065  20.0   6.96     1  0.4640  5.920  61.5  3.9175    3  223   \n",
      "273  0.22188  20.0   6.96     1  0.4640  7.691  51.8  4.3665    3  223   \n",
      "274  0.05644  40.0   6.41     1  0.4470  6.758  32.9  4.0776    4  254   \n",
      "276  0.10469  40.0   6.41     1  0.4470  7.267  49.0  4.7872    4  254   \n",
      "277  0.06127  40.0   6.41     1  0.4470  6.826  27.6  4.8628    4  254   \n",
      "282  0.06129  20.0   3.33     1  0.4429  7.645  49.7  5.2119    5  216   \n",
      "283  0.01501  90.0   1.21     1  0.4010  7.923  24.8  5.8850    1  198   \n",
      "\n",
      "     ptratio       b  lstat  medv  \n",
      "208     18.6  381.32  14.66  24.4  \n",
      "210     18.6  393.25  17.27  21.7  \n",
      "212     18.6  390.94  16.03  22.4  \n",
      "216     16.4  392.80  13.51  23.3  \n",
      "218     16.4  396.90  17.92  21.5  \n",
      "219     16.4  393.74  10.50  23.0  \n",
      "269     18.6  391.34  13.65  20.7  \n",
      "273     18.6  390.77   6.58  35.2  \n",
      "274     17.6  396.90   3.53  32.4  \n",
      "276     17.6  389.25   6.05  33.2  \n",
      "277     17.6  393.45   4.16  33.1  \n",
      "282     14.9  377.07   3.01  46.0  \n",
      "283     13.6  395.52   3.16  50.0  \n"
     ]
    }
   ],
   "source": [
    "# Extract records located along the Charles River (chas = 1) and have a crime rate (crim) less than the median crime rate of the dataset.\n",
    "\"\"\" i use median() method to reach dataset's crim median value. Then i use basic logic\"\"\"\n",
    "print(BH_df[(BH_df['chas'] == 1) & (BH_df['crim'] < BH_df['crim'].median())])"
   ]
  },
  {
   "cell_type": "code",
   "execution_count": 73,
   "metadata": {
    "id": "H-34lKP6egKn"
   },
   "outputs": [
    {
     "name": "stdout",
     "output_type": "stream",
     "text": [
      "        crim    zn  indus  chas    nox     rm    age      dis  rad  tax  \\\n",
      "2    0.02729   0.0   7.07     0  0.469  7.185   61.1   4.9671    2  242   \n",
      "3    0.03237   0.0   2.18     0  0.458  6.998   45.8   6.0622    3  222   \n",
      "4    0.06905   0.0   2.18     0  0.458  7.147   54.2   6.0622    3  222   \n",
      "5    0.02985   0.0   2.18     0  0.458  6.430   58.7   6.0622    3  222   \n",
      "39   0.02763  75.0   2.95     0  0.428  6.595   21.8   5.4011    3  252   \n",
      "..       ...   ...    ...   ...    ...    ...    ...      ...  ...  ...   \n",
      "349  0.02899  40.0   1.25     0  0.429  6.939   34.5   8.7921    1  335   \n",
      "353  0.01709  90.0   2.02     0  0.410  6.728   36.1  12.1265    5  187   \n",
      "369  5.66998   0.0  18.10     1  0.631  6.683   96.8   1.3567   24  666   \n",
      "370  6.53876   0.0  18.10     1  0.631  7.016   97.5   1.2024   24  666   \n",
      "371  9.23230   0.0  18.10     0  0.631  6.216  100.0   1.1691   24  666   \n",
      "\n",
      "     ptratio       b  lstat  medv  \n",
      "2       17.8  392.83   4.03  34.7  \n",
      "3       18.7  394.63   2.94  33.4  \n",
      "4       18.7  396.90   5.33  36.2  \n",
      "5       18.7  394.12   5.21  28.7  \n",
      "39      18.3  395.63   4.32  30.8  \n",
      "..       ...     ...    ...   ...  \n",
      "349     19.7  389.85   5.89  26.6  \n",
      "353     17.0  384.46   4.50  30.1  \n",
      "369     20.2  375.33   3.73  50.0  \n",
      "370     20.2  392.05   2.96  50.0  \n",
      "371     20.2  366.15   9.53  50.0  \n",
      "\n",
      "[113 rows x 14 columns]\n"
     ]
    }
   ],
   "source": [
    "# Identify neighborhoods where the average rm is greater than 6, the lstat (% lower status of the population) is below 10, and the medv is above\n",
    "# the 75th percentile of the dataset.\n",
    "\"\"\" I used similar logic as above cell. i choose 25.0 from describe functions output '1st set of questions Q1 question 6' of 75% which equals to 25.0 \"\"\"\n",
    "print(BH_df[(BH_df['rm'] > 6) & (BH_df['lstat'] < 10) & (BH_df['medv'] > 25.0)])\n",
    "\n",
    "\n",
    "\n"
   ]
  },
  {
   "cell_type": "code",
   "execution_count": 74,
   "metadata": {
    "id": "YnYgiczdegKn"
   },
   "outputs": [
    {
     "name": "stdout",
     "output_type": "stream",
     "text": [
      "        crim     zn  indus  chas     nox     rm   age      dis  rad  tax  \\\n",
      "54   0.01360   75.0   4.00     0  0.4100  5.888  47.6   7.3197    3  469   \n",
      "55   0.01311   90.0   1.22     0  0.4030  7.249  21.9   8.6966    5  226   \n",
      "56   0.02055   85.0   0.74     0  0.4100  6.383  35.7   9.1876    2  313   \n",
      "57   0.01432  100.0   1.32     0  0.4110  6.816  40.5   8.3248    5  256   \n",
      "64   0.01951   17.5   1.38     0  0.4161  7.104  59.5   9.2229    3  216   \n",
      "196  0.04011   80.0   1.52     0  0.4040  7.287  34.1   7.3090    2  329   \n",
      "197  0.04666   80.0   1.52     0  0.4040  7.107  36.6   7.3090    2  329   \n",
      "198  0.03768   80.0   1.52     0  0.4040  7.274  38.3   7.3090    2  329   \n",
      "199  0.03150   95.0   1.47     0  0.4030  6.975  15.3   7.6534    3  402   \n",
      "200  0.01778   95.0   1.47     0  0.4030  7.135  13.9   7.6534    3  402   \n",
      "254  0.04819   80.0   3.64     0  0.3920  6.108  32.0   9.2203    1  315   \n",
      "255  0.03548   80.0   3.64     0  0.3920  5.876  19.1   9.2203    1  315   \n",
      "284  0.00906   90.0   2.97     0  0.4000  7.088  20.8   7.3073    1  285   \n",
      "285  0.01096   55.0   2.25     0  0.3890  6.453  31.9   7.3073    1  300   \n",
      "286  0.01965   80.0   1.76     0  0.3850  6.230  31.5   9.0892    1  241   \n",
      "287  0.03871   52.5   5.32     0  0.4050  6.209  31.3   7.3172    6  293   \n",
      "288  0.04590   52.5   5.32     0  0.4050  6.315  45.6   7.3172    6  293   \n",
      "289  0.04297   52.5   5.32     0  0.4050  6.565  22.9   7.3172    6  293   \n",
      "298  0.06466   70.0   2.24     0  0.4000  6.345  20.1   7.8278    5  358   \n",
      "299  0.05561   70.0   2.24     0  0.4000  7.041  10.0   7.8278    5  358   \n",
      "300  0.04417   70.0   2.24     0  0.4000  6.871  47.4   7.8278    5  358   \n",
      "351  0.07950   60.0   1.69     0  0.4110  6.579  35.9  10.7103    4  411   \n",
      "352  0.07244   60.0   1.69     0  0.4110  5.884  18.5  10.7103    4  411   \n",
      "353  0.01709   90.0   2.02     0  0.4100  6.728  36.1  12.1265    5  187   \n",
      "354  0.04301   80.0   1.91     0  0.4130  5.663  21.9  10.5857    4  334   \n",
      "355  0.10659   80.0   1.91     0  0.4130  5.936  19.5  10.5857    4  334   \n",
      "\n",
      "     ptratio       b  lstat  medv  \n",
      "54      21.1  396.90  14.80  18.9  \n",
      "55      17.9  395.93   4.81  35.4  \n",
      "56      17.3  396.90   5.77  24.7  \n",
      "57      15.1  392.90   3.95  31.6  \n",
      "64      18.6  393.24   8.05  33.0  \n",
      "196     12.6  396.90   4.08  33.3  \n",
      "197     12.6  354.31   8.61  30.3  \n",
      "198     12.6  392.20   6.62  34.6  \n",
      "199     17.0  396.90   4.56  34.9  \n",
      "200     17.0  384.30   4.45  32.9  \n",
      "254     16.4  392.89   6.57  21.9  \n",
      "255     16.4  395.18   9.25  20.9  \n",
      "284     15.3  394.72   7.85  32.2  \n",
      "285     15.3  394.72   8.23  22.0  \n",
      "286     18.2  341.60  12.93  20.1  \n",
      "287     16.6  396.90   7.14  23.2  \n",
      "288     16.6  396.90   7.60  22.3  \n",
      "289     16.6  371.72   9.51  24.8  \n",
      "298     14.8  368.24   4.97  22.5  \n",
      "299     14.8  371.58   4.74  29.0  \n",
      "300     14.8  390.86   6.07  24.8  \n",
      "351     18.3  370.78   5.49  24.1  \n",
      "352     18.3  392.33   7.79  18.6  \n",
      "353     17.0  384.46   4.50  30.1  \n",
      "354     22.0  382.80   8.05  18.2  \n",
      "355     22.0  376.04   5.57  20.6  \n"
     ]
    }
   ],
   "source": [
    "# Identify records where the dis (weighted distances to five Boston employment centers) is in the top 10% of the dataset and the nox\n",
    "# (nitric oxides concentration) is in the bottom 10%\n",
    "\"\"\" here i use pandas quantile() method to get some part of data. \"\"\"\n",
    "top_10th = BH_df['dis'].quantile(0.9)\n",
    "bottom_10th = BH_df['nox'].quantile(0.1)\n",
    "print(BH_df[(BH_df['dis'] >= top_10th) & (BH_df['nox'] <= bottom_10th) ])\n",
    "\n"
   ]
  },
  {
   "cell_type": "code",
   "execution_count": 75,
   "metadata": {
    "id": "tdA4aZ2cegKn"
   },
   "outputs": [
    {
     "name": "stdout",
     "output_type": "stream",
     "text": [
      "         crim   zn  indus  chas    nox     rm    age     dis  rad  tax  \\\n",
      "398  38.35180  0.0   18.1     0  0.693  5.453  100.0  1.4896   24  666   \n",
      "405  67.92080  0.0   18.1     0  0.693  5.683  100.0  1.4254   24  666   \n",
      "400  25.04610  0.0   18.1     0  0.693  5.987  100.0  1.5888   24  666   \n",
      "399   9.91655  0.0   18.1     0  0.693  5.852   77.8  1.5004   24  666   \n",
      "414  45.74610  0.0   18.1     0  0.693  4.519  100.0  1.6582   24  666   \n",
      "385  16.81180  0.0   18.1     0  0.700  5.277   98.1  1.4261   24  666   \n",
      "401  14.23620  0.0   18.1     0  0.693  6.343  100.0  1.5741   24  666   \n",
      "415  18.08460  0.0   18.1     0  0.679  6.434  100.0  1.8347   24  666   \n",
      "387  22.59710  0.0   18.1     0  0.700  5.000   89.5  1.5184   24  666   \n",
      "416  10.83420  0.0   18.1     0  0.679  6.782   90.8  1.8195   24  666   \n",
      "\n",
      "     ptratio       b  lstat  medv  \n",
      "398     20.2  396.90  30.59   5.0  \n",
      "405     20.2  384.97  22.98   5.0  \n",
      "400     20.2  396.90  26.77   5.6  \n",
      "399     20.2  338.16  29.97   6.3  \n",
      "414     20.2   88.27  36.98   7.0  \n",
      "385     20.2  396.90  30.81   7.2  \n",
      "401     20.2  396.90  20.32   7.2  \n",
      "415     20.2   27.25  29.05   7.2  \n",
      "387     20.2  396.90  31.99   7.4  \n",
      "416     20.2   21.57  25.79   7.5  \n"
     ]
    }
   ],
   "source": [
    "# From the houses built before 1940 (age column), select those which fall in the top 20% in terms of nitric oxide concentrations (nox). From this subset,\n",
    "# retrieve the bottom 10 records with the lowest medv values.\n",
    "before_1940 = BH_df[BH_df['age'] < 1940] # i select the houses built before 1940.\n",
    "top_20th = before_1940['nox'].quantile(0.8) # i took upper part of %20 of nitric oxide concentrations.\n",
    "\n",
    "print(before_1940[before_1940['nox'] >= top_20th].nsmallest(10, 'medv')) # i use nmallest pandas method to get rows with the smallest values in a specified column.\n",
    "\n",
    "\n",
    "\n"
   ]
  },
  {
   "cell_type": "code",
   "execution_count": null,
   "metadata": {},
   "outputs": [],
   "source": []
  },
  {
   "cell_type": "markdown",
   "metadata": {
    "id": "owO-EI7negKo"
   },
   "source": [
    "## Q3. Calculate the average per capita crime rate (crim) for each category, \"Low\", \"Medium\" or \"High\" of pupil-teacher ratio (ptratio). **(10 Pts)**\n",
    "The ptratio is categorized into\n",
    "* Low if ptratio <= 15\n",
    "* Medium if 15 < ptratio <= 20\n",
    "* High if ptratio > 20"
   ]
  },
  {
   "cell_type": "code",
   "execution_count": 76,
   "metadata": {
    "id": "6e01-R92egKo"
   },
   "outputs": [
    {
     "name": "stdout",
     "output_type": "stream",
     "text": [
      "average per capita crime rate for low category = 1.2355291379310342\n",
      "average per capita crime rate for medium category = 0.1584158704453441\n",
      "average per capita crime rate for high category = 8.545539850746271\n"
     ]
    }
   ],
   "source": [
    "#  Calculate the average per capita crime rate (crim) for each category, \"Low\", \"Medium\" or \"High\" of pupil-teacher ratio (ptratio)\n",
    "\"\"\" first i create pandas series to get categories then i use mean() function from describe function() to get average of crim\n",
    "category for every category of pupil-teacher ratio. \"\"\"\n",
    "low = BH_df[\"ptratio\"] <= 15.0 # i create low category\n",
    "medium = (15 < BH_df[\"ptratio\"]) & (BH_df[\"ptratio\"] <= 20.0) # i create medium category\n",
    "high = BH_df[\"ptratio\"] > 20.0 # i create high category\n",
    "\n",
    "print(\"average per capita crime rate for low category =\",end=\" \")\n",
    "print(BH_df[low].crim.mean()) # average per capita crime rate for low category.\n",
    "print(\"average per capita crime rate for medium category =\",end=\" \")\n",
    "print(BH_df[medium].crim.mean()) # average per capita crime rate for medium category.\n",
    "print(\"average per capita crime rate for high category =\",end=\" \")\n",
    "print(BH_df[high].crim.mean()) # average per capita crime rate for high category.\n",
    "\n",
    "\n",
    "\n",
    "\n",
    "\n"
   ]
  },
  {
   "cell_type": "code",
   "execution_count": 77,
   "metadata": {
    "id": "9qUtmvygegKo"
   },
   "outputs": [],
   "source": [
    "# 2nd Set of Questions on the shot1.csv and shot2.csv Datasets **(30 Pts)**\n",
    "\n",
    "# * **Dataset Path: \"Data/shot1.csv\" and \"Data/shot2.csv\"**"
   ]
  },
  {
   "cell_type": "markdown",
   "metadata": {
    "id": "SrwgJuaEegKo"
   },
   "source": [
    "## Q1. Data Merging and Consistency Checking **(10 Pts)**\n",
    "\n",
    "* Combine the data from \"shot1.csv\" and \"shot2.csv\" into a single DataFrame, ensuring no redundant columns are present. Merge by the redundant column names, representing the same info with different naming.\n",
    "*  After merging, perform a consistency check for any duplicated rows and provide a summary of your findings. Give the details (avg, mean, etc) of each feature."
   ]
  },
  {
   "cell_type": "code",
   "execution_count": 78,
   "metadata": {
    "id": "yyP5xdh8egKo"
   },
   "outputs": [],
   "source": [
    "# read csv s into dfs\n",
    "\n",
    "import glob # using glob the way i chose to get single dataframe.\n",
    "df_lst = []\n",
    "\n",
    "# list of file i want to read.\n",
    "files_to_get_single_df = ['shot1.csv', 'shot2.csv']\n",
    "\n",
    "# iterate \n",
    "for file in files_to_get_single_df:\n",
    "    file_path = r'C:\\Users\\mbdn1\\Desktop\\\\' + file\n",
    "    \n",
    "    # Read each file to df and append them to df_lst\n",
    "    df = pd.read_csv(file_path)\n",
    "    df_lst.append(df)\n",
    "\n",
    "# concatanate in a single df\n",
    "combined_df = pd.concat(df_lst, ignore_index=True) # ignore index part is about the index from the original dataframes in df_lst will be ignored"
   ]
  },
  {
   "cell_type": "code",
   "execution_count": 79,
   "metadata": {
    "id": "EjwwuI7DegKo"
   },
   "outputs": [
    {
     "data": {
      "text/html": [
       "<div>\n",
       "<style scoped>\n",
       "    .dataframe tbody tr th:only-of-type {\n",
       "        vertical-align: middle;\n",
       "    }\n",
       "\n",
       "    .dataframe tbody tr th {\n",
       "        vertical-align: top;\n",
       "    }\n",
       "\n",
       "    .dataframe thead th {\n",
       "        text-align: right;\n",
       "    }\n",
       "</style>\n",
       "<table border=\"1\" class=\"dataframe\">\n",
       "  <thead>\n",
       "    <tr style=\"text-align: right;\">\n",
       "      <th></th>\n",
       "      <th>ID_GAME</th>\n",
       "      <th>MATCHUP</th>\n",
       "      <th>LOCATION</th>\n",
       "      <th>W</th>\n",
       "      <th>FINAL_MARGIN</th>\n",
       "      <th>SHOT_NUMBER</th>\n",
       "      <th>PERIOD</th>\n",
       "      <th>GAME_CLOCK</th>\n",
       "      <th>SHOT_CLOCK</th>\n",
       "      <th>DRIBBLES</th>\n",
       "      <th>...</th>\n",
       "      <th>SHOT_RESULT</th>\n",
       "      <th>ID_GAME</th>\n",
       "      <th>PTS_TYPE</th>\n",
       "      <th>CLOSEST_DEFENDER</th>\n",
       "      <th>CLOSEST_DEFENDER_PLAYER_ID</th>\n",
       "      <th>CLOSE_DEF_DIST</th>\n",
       "      <th>FGM</th>\n",
       "      <th>PTS</th>\n",
       "      <th>player_name</th>\n",
       "      <th>player_id</th>\n",
       "    </tr>\n",
       "  </thead>\n",
       "  <tbody>\n",
       "    <tr>\n",
       "      <th>0</th>\n",
       "      <td>21400899.0</td>\n",
       "      <td>MAR 04, 2015 - CHA @ BKN</td>\n",
       "      <td>A</td>\n",
       "      <td>W</td>\n",
       "      <td>24.0</td>\n",
       "      <td>1.0</td>\n",
       "      <td>1.0</td>\n",
       "      <td>1:09</td>\n",
       "      <td>10.8</td>\n",
       "      <td>2.0</td>\n",
       "      <td>...</td>\n",
       "      <td>made</td>\n",
       "      <td>NaN</td>\n",
       "      <td>NaN</td>\n",
       "      <td>NaN</td>\n",
       "      <td>NaN</td>\n",
       "      <td>NaN</td>\n",
       "      <td>NaN</td>\n",
       "      <td>NaN</td>\n",
       "      <td>NaN</td>\n",
       "      <td>NaN</td>\n",
       "    </tr>\n",
       "    <tr>\n",
       "      <th>1</th>\n",
       "      <td>21400899.0</td>\n",
       "      <td>MAR 04, 2015 - CHA @ BKN</td>\n",
       "      <td>A</td>\n",
       "      <td>W</td>\n",
       "      <td>24.0</td>\n",
       "      <td>2.0</td>\n",
       "      <td>1.0</td>\n",
       "      <td>0:14</td>\n",
       "      <td>3.4</td>\n",
       "      <td>0.0</td>\n",
       "      <td>...</td>\n",
       "      <td>missed</td>\n",
       "      <td>NaN</td>\n",
       "      <td>NaN</td>\n",
       "      <td>NaN</td>\n",
       "      <td>NaN</td>\n",
       "      <td>NaN</td>\n",
       "      <td>NaN</td>\n",
       "      <td>NaN</td>\n",
       "      <td>NaN</td>\n",
       "      <td>NaN</td>\n",
       "    </tr>\n",
       "    <tr>\n",
       "      <th>2</th>\n",
       "      <td>21400899.0</td>\n",
       "      <td>MAR 04, 2015 - CHA @ BKN</td>\n",
       "      <td>A</td>\n",
       "      <td>W</td>\n",
       "      <td>24.0</td>\n",
       "      <td>3.0</td>\n",
       "      <td>1.0</td>\n",
       "      <td>0:00</td>\n",
       "      <td>NaN</td>\n",
       "      <td>3.0</td>\n",
       "      <td>...</td>\n",
       "      <td>missed</td>\n",
       "      <td>NaN</td>\n",
       "      <td>NaN</td>\n",
       "      <td>NaN</td>\n",
       "      <td>NaN</td>\n",
       "      <td>NaN</td>\n",
       "      <td>NaN</td>\n",
       "      <td>NaN</td>\n",
       "      <td>NaN</td>\n",
       "      <td>NaN</td>\n",
       "    </tr>\n",
       "    <tr>\n",
       "      <th>3</th>\n",
       "      <td>21400899.0</td>\n",
       "      <td>MAR 04, 2015 - CHA @ BKN</td>\n",
       "      <td>A</td>\n",
       "      <td>W</td>\n",
       "      <td>24.0</td>\n",
       "      <td>4.0</td>\n",
       "      <td>2.0</td>\n",
       "      <td>11:47</td>\n",
       "      <td>10.3</td>\n",
       "      <td>2.0</td>\n",
       "      <td>...</td>\n",
       "      <td>missed</td>\n",
       "      <td>NaN</td>\n",
       "      <td>NaN</td>\n",
       "      <td>NaN</td>\n",
       "      <td>NaN</td>\n",
       "      <td>NaN</td>\n",
       "      <td>NaN</td>\n",
       "      <td>NaN</td>\n",
       "      <td>NaN</td>\n",
       "      <td>NaN</td>\n",
       "    </tr>\n",
       "    <tr>\n",
       "      <th>4</th>\n",
       "      <td>21400899.0</td>\n",
       "      <td>MAR 04, 2015 - CHA @ BKN</td>\n",
       "      <td>A</td>\n",
       "      <td>W</td>\n",
       "      <td>24.0</td>\n",
       "      <td>5.0</td>\n",
       "      <td>2.0</td>\n",
       "      <td>10:34</td>\n",
       "      <td>10.9</td>\n",
       "      <td>2.0</td>\n",
       "      <td>...</td>\n",
       "      <td>missed</td>\n",
       "      <td>NaN</td>\n",
       "      <td>NaN</td>\n",
       "      <td>NaN</td>\n",
       "      <td>NaN</td>\n",
       "      <td>NaN</td>\n",
       "      <td>NaN</td>\n",
       "      <td>NaN</td>\n",
       "      <td>NaN</td>\n",
       "      <td>NaN</td>\n",
       "    </tr>\n",
       "  </tbody>\n",
       "</table>\n",
       "<p>5 rows × 22 columns</p>\n",
       "</div>"
      ],
      "text/plain": [
       "      ID_GAME                   MATCHUP LOCATION  W  FINAL_MARGIN  \\\n",
       "0  21400899.0  MAR 04, 2015 - CHA @ BKN        A  W          24.0   \n",
       "1  21400899.0  MAR 04, 2015 - CHA @ BKN        A  W          24.0   \n",
       "2  21400899.0  MAR 04, 2015 - CHA @ BKN        A  W          24.0   \n",
       "3  21400899.0  MAR 04, 2015 - CHA @ BKN        A  W          24.0   \n",
       "4  21400899.0  MAR 04, 2015 - CHA @ BKN        A  W          24.0   \n",
       "\n",
       "   SHOT_NUMBER  PERIOD GAME_CLOCK  SHOT_CLOCK  DRIBBLES  ...  SHOT_RESULT  \\\n",
       "0          1.0     1.0       1:09        10.8       2.0  ...         made   \n",
       "1          2.0     1.0       0:14         3.4       0.0  ...       missed   \n",
       "2          3.0     1.0       0:00         NaN       3.0  ...       missed   \n",
       "3          4.0     2.0      11:47        10.3       2.0  ...       missed   \n",
       "4          5.0     2.0      10:34        10.9       2.0  ...       missed   \n",
       "\n",
       "   ID_GAME PTS_TYPE  CLOSEST_DEFENDER  CLOSEST_DEFENDER_PLAYER_ID  \\\n",
       "0      NaN      NaN               NaN                         NaN   \n",
       "1      NaN      NaN               NaN                         NaN   \n",
       "2      NaN      NaN               NaN                         NaN   \n",
       "3      NaN      NaN               NaN                         NaN   \n",
       "4      NaN      NaN               NaN                         NaN   \n",
       "\n",
       "  CLOSE_DEF_DIST  FGM  PTS  player_name  player_id  \n",
       "0            NaN  NaN  NaN          NaN        NaN  \n",
       "1            NaN  NaN  NaN          NaN        NaN  \n",
       "2            NaN  NaN  NaN          NaN        NaN  \n",
       "3            NaN  NaN  NaN          NaN        NaN  \n",
       "4            NaN  NaN  NaN          NaN        NaN  \n",
       "\n",
       "[5 rows x 22 columns]"
      ]
     },
     "execution_count": 79,
     "metadata": {},
     "output_type": "execute_result"
    }
   ],
   "source": [
    "# merge dfs, removing redundant columns\n",
    "redundant_columns = ['GAME_ID', 'GAME_IDENTIFICATION'] # I determined the redundant columns.\n",
    "\n",
    "#  i create a dictionary to map the redundant column names to a common name which is ID_GAME.\n",
    "column_mapping = {'GAME_ID': 'ID_GAME', 'GAME_IDENTIFICATION': 'ID_GAME'}\n",
    "\n",
    "# rename the columns in combined_df to match the common name\n",
    "combined_df = combined_df.rename(columns=column_mapping) # rename() is a way for rename columns.\n",
    "combined_df.head()\n"
   ]
  },
  {
   "cell_type": "code",
   "execution_count": 80,
   "metadata": {
    "id": "duOlB8HzegKp"
   },
   "outputs": [
    {
     "name": "stdout",
     "output_type": "stream",
     "text": [
      "Summary of the findings\n",
      "\n",
      "Number of Duplicated Rows: 31\n",
      "\n",
      "            ID_GAME   FINAL_MARGIN    SHOT_NUMBER         PERIOD  \\\n",
      "count  1.280690e+05  128069.000000  128069.000000  128069.000000   \n",
      "mean   2.140045e+07       0.208723       6.506899       2.469427   \n",
      "std    2.578773e+02      13.233267       4.713260       1.139919   \n",
      "min    2.140000e+07     -53.000000       1.000000       1.000000   \n",
      "25%    2.140023e+07      -8.000000       3.000000       1.000000   \n",
      "50%    2.140045e+07       1.000000       5.000000       2.000000   \n",
      "75%    2.140067e+07       9.000000       9.000000       3.000000   \n",
      "max    2.140091e+07      53.000000      38.000000       7.000000   \n",
      "\n",
      "          SHOT_CLOCK       DRIBBLES     TOUCH_TIME      SHOT_DIST  \\\n",
      "count  122502.000000  128069.000000  128069.000000  256138.000000   \n",
      "mean       12.453344       2.023355       2.765901      13.571504   \n",
      "std         5.763265       3.477760       3.043682       8.888946   \n",
      "min         0.000000       0.000000    -163.600000       0.000000   \n",
      "25%         8.200000       0.000000       0.900000       4.700000   \n",
      "50%        12.300000       1.000000       1.600000      13.700000   \n",
      "75%        16.675000       2.000000       3.700000      22.500000   \n",
      "max        24.000000      32.000000      24.900000      47.200000   \n",
      "\n",
      "            ID_GAME       PTS_TYPE  CLOSEST_DEFENDER_PLAYER_ID  \\\n",
      "count  1.280690e+05  128069.000000               128069.000000   \n",
      "mean   2.140045e+07       2.264670               159038.487284   \n",
      "std    2.578773e+02       0.441159                78791.172947   \n",
      "min    2.140000e+07       2.000000                  708.000000   \n",
      "25%    2.140023e+07       2.000000               101249.000000   \n",
      "50%    2.140045e+07       2.000000               201949.000000   \n",
      "75%    2.140067e+07       3.000000               203079.000000   \n",
      "max    2.140091e+07       3.000000               530027.000000   \n",
      "\n",
      "       CLOSE_DEF_DIST            FGM            PTS      player_id  \n",
      "count   128069.000000  128069.000000  128069.000000  128069.000000  \n",
      "mean         4.123015       0.452139       0.997314  157238.251247  \n",
      "std          2.756446       0.497706       1.130978   79362.389336  \n",
      "min          0.000000       0.000000       0.000000     708.000000  \n",
      "25%          2.300000       0.000000       0.000000  101162.000000  \n",
      "50%          3.700000       0.000000       0.000000  201939.000000  \n",
      "75%          5.300000       1.000000       2.000000  202704.000000  \n",
      "max         53.200000       1.000000       3.000000  204060.000000  \n"
     ]
    }
   ],
   "source": [
    "# check for duplicate rows and provide a summary of the findings for each feature\n",
    "rows_are_duplicate = combined_df[combined_df.duplicated()] # rows_are_duplicate is dataframe which contain duplicated rows of combined_df.\n",
    "num_of_duplicate = len(rows_are_duplicate) # number of duplicated rows.\n",
    "print(\"Summary of the findings\")\n",
    "print(\"\")\n",
    "print(\"Number of Duplicated Rows:\", num_of_duplicate)\n",
    "print(\"\")\n",
    "print(combined_df.describe()) # summary of combined_df."
   ]
  },
  {
   "cell_type": "markdown",
   "metadata": {
    "id": "OPHmCyzkegKp"
   },
   "source": [
    "# Q2. Player’s Shooting Accuracy Analysis **(10 Pts)**\n",
    "* Using the combined DataFrame from Question 1, calculate and display the shooting accuracy of each player.\n",
    "* Shooting accuracy = the ratio of successful shots (SHOT_RESULT) to total shots taken\n",
    "* Display the top 5 players based on shooting accuracy"
   ]
  },
  {
   "cell_type": "code",
   "execution_count": 81,
   "metadata": {
    "id": "2sY750bmegKp"
   },
   "outputs": [
    {
     "name": "stdout",
     "output_type": "stream",
     "text": [
      "player_name\n",
      "aaron brooks       0.415330\n",
      "aaron gordon       0.528846\n",
      "al farouq aminu    0.430233\n",
      "al horford         0.541259\n",
      "al jefferson       0.477500\n",
      "                     ...   \n",
      "wesley matthews    0.449198\n",
      "wilson chandler    0.414734\n",
      "zach lavine        0.423181\n",
      "zach randolph      0.488823\n",
      "zaza pachulia      0.431429\n",
      "Name: FGM, Length: 281, dtype: float64\n"
     ]
    }
   ],
   "source": [
    "\n",
    "player_group = combined_df.groupby(\"player_name\") # i separated combined_df to player_name groups.\n",
    "\n",
    "print(player_group[\"FGM\"].mean()) #i use another way to display shooting accuracy of each player.\n",
    "#  FGM represents the number of baskets of a player has successfully made.\n",
    "# analyzing the mean \"FGM\" for each player i am gonna know their scoring ability and shooting accuracy. \n",
    " \n",
    "\n"
   ]
  },
  {
   "cell_type": "code",
   "execution_count": 82,
   "metadata": {
    "id": "btsQNA0negKp"
   },
   "outputs": [
    {
     "name": "stdout",
     "output_type": "stream",
     "text": [
      "player_name\n",
      "deandre jordan    0.712468\n",
      "tyson chandler    0.676471\n",
      "rudy gobert       0.625468\n",
      "greg smith        0.617021\n",
      "james johnson     0.614148\n",
      "Name: FGM, dtype: float64\n"
     ]
    }
   ],
   "source": [
    "print(player_group[\"FGM\"].mean().sort_values(ascending = False).head()) # i sort top 5 player in descending order and display five top players."
   ]
  },
  {
   "cell_type": "markdown",
   "metadata": {
    "id": "8acoMsUNegKp"
   },
   "source": [
    "# Q3. Analyze the Relationship between shooting distance (SHOT_DIST) and shooting success (SHOT_RESULT). **(10 Pts)**\n",
    "* Bin the shots into categories based on distance. **STATE AND REASON ABOUT YOUR LOGIC HERE!** (How to apply binning)\n",
    "\n",
    "first i find combined_df's max min mean and median value. then i use max and min to find range after that i divided range by mean then i round finding results to bin value.We just learned the concept of bin in our Statistic course but i did not learn in detail i learn that bining must be good categorized for visibility when i try this way it looks good so i did this.\n",
    "* Calculate the shooting accuracy for each bin.\n",
    "* **COMMENT** on your findinds."
   ]
  },
  {
   "cell_type": "code",
   "execution_count": 83,
   "metadata": {
    "id": "bhlF63SAegKp"
   },
   "outputs": [
    {
     "name": "stdout",
     "output_type": "stream",
     "text": [
      "SHOT_CATEGORY\n",
      "0-3      0.635819\n",
      "4-7      0.484063\n",
      "8-11     0.393686\n",
      "12-15    0.416071\n",
      "16-19    0.411277\n",
      "20-23    0.380096\n",
      "24-27    0.344877\n",
      "28-31    0.206506\n",
      "32-35    0.087209\n",
      "36-39    0.076190\n",
      "40-43    0.011111\n",
      "44-47    0.052632\n",
      "Name: SHOT_RESULT, dtype: float64\n"
     ]
    },
    {
     "data": {
      "image/png": "[encoded data removed]",
      "text/plain": [
       "<Figure size 648x432 with 1 Axes>"
      ]
     },
     "metadata": {
      "needs_background": "light"
     },
     "output_type": "display_data"
    }
   ],
   "source": [
    "import matplotlib.pyplot as plt\n",
    "\n",
    "mybin = range(0, 49, 4) # bins with a width of 4 then  i use this to make SHOT_CATEGORY' s index.\n",
    "mylabel = [f'{i}-{i+3}' for i in range(0, 48, 4)] \n",
    "\"\"\" i use list comprehension to create list in easier way then i use mylabel to set label name's. \"\"\"\n",
    "\n",
    "# i create a new column in combine_df to see shot categories.\n",
    "combined_df['SHOT_CATEGORY'] = pd.cut(combined_df['SHOT_DIST'], bins=mybin, labels=mylabel)\n",
    "\n",
    "# i calculate shooting accuracy for each bin i use mean method.\n",
    "shooting_accuracy = combined_df.groupby('SHOT_CATEGORY')['SHOT_RESULT'].apply(lambda x: (x == 'made').mean())\n",
    "print(shooting_accuracy)\n",
    "\n",
    "# plot for shooting accuracy and shooting distance\n",
    "plt.figure(figsize=(9, 6))\n",
    "plt.bar(shooting_accuracy.index, shooting_accuracy)\n",
    "plt.title('Relation between shooting distance and shooting success')\n",
    "plt.xlabel('Distance Category')\n",
    "plt.ylabel('Shooting Accuracy')\n",
    "plt.xticks(rotation=45) # to easier reading\n",
    "plt.show()\n"
   ]
  },
  {
   "cell_type": "code",
   "execution_count": null,
   "metadata": {
    "id": "gtJ1FXwiegKq"
   },
   "outputs": [],
   "source": []
  },
  {
   "cell_type": "markdown",
   "metadata": {
    "id": "y_zi063wegKq"
   },
   "source": [
    "# 3rd Set of Questions on SQL - **using sqlite3 library!** **(40 Pts)**\n",
    "\n",
    "* **Dataset Path: \"Data/annots.csv\"**\n",
    "\n",
    "Here you are given a file: annots.csv, with the protein - gene ontology (GO) term associations/annotations. Gene ontology is a framework, representing the properties of genes and proteins. This is basically a Graph - more spesifically a directed acyclic graph (DAG), representing a level-ordered hierarchy with three subgraphs: MF, CC, and BP. Here, **each** node in the graph, which we term as **\"GO Term\" corresponds to a function of a protein.**\n",
    "\n",
    "* If protein is annotated with a GO Term, then the protein has the function represented by this GO Term.\n",
    "* A protein can be and most of the time is annotated with multiple GO terms, and vice versa.\n",
    "\n",
    "In the annots.csv file, we have the annotation data, where each row corresponds to a protein - GO term annotation with the following columns: ProteinID,ProtSeq, GO_ID, Sub_Graph, Level. ProteinID is the specifier of the protein and the ProtSeq is the aminoacid sequence of this protein. GO_ID, Sub_Graph, and Level are properties of a GO Term.\n",
    "\n",
    "**Now, we want to store this data in a relational database, with the following table schemas:**"
   ]
  },
  {
   "cell_type": "markdown",
   "metadata": {
    "id": "JXn2qwIqegKq"
   },
   "source": [
    "## Table 1: GoTerms:\n",
    "\n",
    "| Column   | Type    | Key        | Description                |\n",
    "|----------|---------|------------|----------------------------|\n",
    "| GoID     | TEXT    | PRIMARY KEY| Gene Ontology Identifier   |\n",
    "| SubGraph | TEXT    |            | Subgraph Type (BP, MF, CC) |\n",
    "| Level    | INTEGER |            | Ontology level             |\n"
   ]
  },
  {
   "cell_type": "markdown",
   "metadata": {
    "id": "1ktEhwf4egKq"
   },
   "source": [
    "## Table 2: Proteins\n",
    "\n",
    "| Column     | Type | Key        | Description                |\n",
    "|------------|------|------------|----------------------------|\n",
    "| ProteinID  | TEXT | PRIMARY KEY| Unique Protein Identifier  |\n",
    "| ProtSeq  | TEXT | | Amino Acid Sequence |"
   ]
  },
  {
   "cell_type": "markdown",
   "metadata": {
    "id": "_IJcKvKMegKq"
   },
   "source": [
    "## Table 3: Annotations\n",
    "\n",
    "| Column    | Type | Key                       | Description               |\n",
    "|-----------|------|---------------------------|---------------------------|\n",
    "| GoID      | TEXT | PRIMARY KEY, FOREIGN KEY  | Gene Ontology Identifier  |\n",
    "| ProteinID | TEXT | PRIMARY KEY, FOREIGN KEY  | Unique Protein Identifier |\n"
   ]
  },
  {
   "cell_type": "markdown",
   "metadata": {
    "id": "qchRSop6egKq"
   },
   "source": [
    "## Q1. Read the csv file and create this DB  **(10 Pts)**"
   ]
  },
  {
   "cell_type": "code",
   "execution_count": 123,
   "metadata": {},
   "outputs": [
    {
     "data": {
      "text/html": [
       "<div>\n",
       "<style scoped>\n",
       "    .dataframe tbody tr th:only-of-type {\n",
       "        vertical-align: middle;\n",
       "    }\n",
       "\n",
       "    .dataframe tbody tr th {\n",
       "        vertical-align: top;\n",
       "    }\n",
       "\n",
       "    .dataframe thead th {\n",
       "        text-align: right;\n",
       "    }\n",
       "</style>\n",
       "<table border=\"1\" class=\"dataframe\">\n",
       "  <thead>\n",
       "    <tr style=\"text-align: right;\">\n",
       "      <th></th>\n",
       "      <th>ProteinID</th>\n",
       "      <th>ProtSeq</th>\n",
       "      <th>GO_ID</th>\n",
       "      <th>Sub_Graph</th>\n",
       "      <th>Level</th>\n",
       "    </tr>\n",
       "  </thead>\n",
       "  <tbody>\n",
       "    <tr>\n",
       "      <th>0</th>\n",
       "      <td>A0A0E4AZF8</td>\n",
       "      <td>VDDIQEKMNKELGCIKVTFPGADGQGEDACLKDIPVSLISTYFART...</td>\n",
       "      <td>GO:0005488</td>\n",
       "      <td>MF</td>\n",
       "      <td>1</td>\n",
       "    </tr>\n",
       "    <tr>\n",
       "      <th>1</th>\n",
       "      <td>A0A075B6K5</td>\n",
       "      <td>FDEAEHAHTYLRERIEVRLMTASESLMGERLGLMMGVCYEHFKGCG...</td>\n",
       "      <td>GO:0019814</td>\n",
       "      <td>CC</td>\n",
       "      <td>2</td>\n",
       "    </tr>\n",
       "    <tr>\n",
       "      <th>2</th>\n",
       "      <td>A0A097ZPG2</td>\n",
       "      <td>NCLLPFHFDGRQPFWTGADCMFAFLMCDYSGAMCECTGCHWPHQEG...</td>\n",
       "      <td>GO:0004499</td>\n",
       "      <td>MF</td>\n",
       "      <td>5</td>\n",
       "    </tr>\n",
       "    <tr>\n",
       "      <th>3</th>\n",
       "      <td>A0A097ZPD9</td>\n",
       "      <td>QFEGITCPMDPCRPCAWWIARYSYHWLPIHRGSECQGLYMKPPDYQ...</td>\n",
       "      <td>GO:0006629</td>\n",
       "      <td>BP</td>\n",
       "      <td>3</td>\n",
       "    </tr>\n",
       "    <tr>\n",
       "      <th>4</th>\n",
       "      <td>A0A0C4DH36</td>\n",
       "      <td>GNGGHVTILYAYGAMHRHQMVRCYHWVGVTRV</td>\n",
       "      <td>GO:0002250</td>\n",
       "      <td>BP</td>\n",
       "      <td>3</td>\n",
       "    </tr>\n",
       "  </tbody>\n",
       "</table>\n",
       "</div>"
      ],
      "text/plain": [
       "    ProteinID                                            ProtSeq       GO_ID  \\\n",
       "0  A0A0E4AZF8  VDDIQEKMNKELGCIKVTFPGADGQGEDACLKDIPVSLISTYFART...  GO:0005488   \n",
       "1  A0A075B6K5  FDEAEHAHTYLRERIEVRLMTASESLMGERLGLMMGVCYEHFKGCG...  GO:0019814   \n",
       "2  A0A097ZPG2  NCLLPFHFDGRQPFWTGADCMFAFLMCDYSGAMCECTGCHWPHQEG...  GO:0004499   \n",
       "3  A0A097ZPD9  QFEGITCPMDPCRPCAWWIARYSYHWLPIHRGSECQGLYMKPPDYQ...  GO:0006629   \n",
       "4  A0A0C4DH36                   GNGGHVTILYAYGAMHRHQMVRCYHWVGVTRV  GO:0002250   \n",
       "\n",
       "  Sub_Graph  Level  \n",
       "0        MF      1  \n",
       "1        CC      2  \n",
       "2        MF      5  \n",
       "3        BP      3  \n",
       "4        BP      3  "
      ]
     },
     "execution_count": 123,
     "metadata": {},
     "output_type": "execute_result"
    }
   ],
   "source": [
    "# read file into db and create a db using sqlite3\n",
    "\n",
    "annots_df = pd.read_csv(\"annots.csv\")\n",
    "conn = sqlite3.connect(\"annots_db.sqlite\")\n",
    "cursor = conn.cursor()\n",
    "# Store the DataFrame as a table in the SQLite database\n",
    "annots_df.to_sql('annots', conn, if_exists='replace', index=False)\n",
    "pd.read_sql('SELECT * FROM annots LIMIT 5', conn)\n"
   ]
  },
  {
   "cell_type": "code",
   "execution_count": 128,
   "metadata": {},
   "outputs": [
    {
     "data": {
      "text/html": [
       "<div>\n",
       "<style scoped>\n",
       "    .dataframe tbody tr th:only-of-type {\n",
       "        vertical-align: middle;\n",
       "    }\n",
       "\n",
       "    .dataframe tbody tr th {\n",
       "        vertical-align: top;\n",
       "    }\n",
       "\n",
       "    .dataframe thead th {\n",
       "        text-align: right;\n",
       "    }\n",
       "</style>\n",
       "<table border=\"1\" class=\"dataframe\">\n",
       "  <thead>\n",
       "    <tr style=\"text-align: right;\">\n",
       "      <th></th>\n",
       "      <th>Column</th>\n",
       "      <th>Type</th>\n",
       "      <th>Key</th>\n",
       "      <th>Description</th>\n",
       "    </tr>\n",
       "  </thead>\n",
       "  <tbody>\n",
       "  </tbody>\n",
       "</table>\n",
       "</div>"
      ],
      "text/plain": [
       "Empty DataFrame\n",
       "Columns: [Column, Type, Key, Description]\n",
       "Index: []"
      ]
     },
     "execution_count": 128,
     "metadata": {},
     "output_type": "execute_result"
    }
   ],
   "source": [
    "# Create the \"GoTerms\" table\n",
    "cursor.execute('''\n",
    "    CREATE TABLE IF NOT EXISTS GoTerms (\n",
    "        Column TEXT,\n",
    "        Type TEXT,\n",
    "        Key PRIMARY KEY,\n",
    "        Description TEXT\n",
    "    )\n",
    "''')\n",
    "\n",
    "\n",
    "# Create the \"Proteins\" table\n",
    "cursor.execute('''\n",
    "    CREATE TABLE IF NOT EXISTS Proteins (\n",
    "        Column TEXT,\n",
    "        Type TEXT,\n",
    "        Key PRIMARY KEY,\n",
    "        Description TEXT\n",
    "    )\n",
    "''')\n",
    "\n",
    "# Create the \"Annotations\" table\n",
    "cursor.execute('''\n",
    "    CREATE TABLE IF NOT EXISTS Annotations (\n",
    "        Column TEXT,\n",
    "        Type TEXT,\n",
    "        Key PRIMARY KEY,\n",
    "        Description TEXT\n",
    "    )\n",
    "''')\n",
    "pd.read_sql('''\n",
    "SELECT *\n",
    "FROM GoTerms\n",
    "''', conn)\n"
   ]
  },
  {
   "cell_type": "code",
   "execution_count": 140,
   "metadata": {},
   "outputs": [
    {
     "data": {
      "text/html": [
       "<div>\n",
       "<style scoped>\n",
       "    .dataframe tbody tr th:only-of-type {\n",
       "        vertical-align: middle;\n",
       "    }\n",
       "\n",
       "    .dataframe tbody tr th {\n",
       "        vertical-align: top;\n",
       "    }\n",
       "\n",
       "    .dataframe thead th {\n",
       "        text-align: right;\n",
       "    }\n",
       "</style>\n",
       "<table border=\"1\" class=\"dataframe\">\n",
       "  <thead>\n",
       "    <tr style=\"text-align: right;\">\n",
       "      <th></th>\n",
       "      <th>Column</th>\n",
       "      <th>Type</th>\n",
       "      <th>Key</th>\n",
       "      <th>Description</th>\n",
       "    </tr>\n",
       "  </thead>\n",
       "  <tbody>\n",
       "    <tr>\n",
       "      <th>0</th>\n",
       "      <td>GoID</td>\n",
       "      <td>TEXT</td>\n",
       "      <td>PRIMARY KEY</td>\n",
       "      <td>Gene Ontology Identifier</td>\n",
       "    </tr>\n",
       "    <tr>\n",
       "      <th>1</th>\n",
       "      <td>SubGraph</td>\n",
       "      <td>TEXT</td>\n",
       "      <td></td>\n",
       "      <td>Subgraph Type (BP, MF, CC)</td>\n",
       "    </tr>\n",
       "  </tbody>\n",
       "</table>\n",
       "</div>"
      ],
      "text/plain": [
       "     Column  Type          Key                 Description\n",
       "0      GoID  TEXT  PRIMARY KEY    Gene Ontology Identifier\n",
       "1  SubGraph  TEXT               Subgraph Type (BP, MF, CC)"
      ]
     },
     "execution_count": 140,
     "metadata": {},
     "output_type": "execute_result"
    }
   ],
   "source": [
    "goterms_data = [\n",
    "    (\"GoID\",\"TEXT\",\"PRIMARY KEY\",\"Gene Ontology Identifier\"),\n",
    "    (\"SubGraph\",\"TEXT\",\"\",\"Subgraph Type (BP, MF, CC)\"),\n",
    "    (\"Level\",\"INTEGER\",\"\",\"Ontology level\")\n",
    "]\n",
    "cursor.executemany(\"INSERT OR IGNORE INTO GoTerms VALUES (?, ?, ?, ?)\", goterms_data,)\n",
    "pd.read_sql('''\n",
    "SELECT *\n",
    "FROM GoTerms\n",
    "''', conn)\n"
   ]
  },
  {
   "cell_type": "code",
   "execution_count": 141,
   "metadata": {},
   "outputs": [
    {
     "data": {
      "text/html": [
       "<div>\n",
       "<style scoped>\n",
       "    .dataframe tbody tr th:only-of-type {\n",
       "        vertical-align: middle;\n",
       "    }\n",
       "\n",
       "    .dataframe tbody tr th {\n",
       "        vertical-align: top;\n",
       "    }\n",
       "\n",
       "    .dataframe thead th {\n",
       "        text-align: right;\n",
       "    }\n",
       "</style>\n",
       "<table border=\"1\" class=\"dataframe\">\n",
       "  <thead>\n",
       "    <tr style=\"text-align: right;\">\n",
       "      <th></th>\n",
       "      <th>Column</th>\n",
       "      <th>Type</th>\n",
       "      <th>Key</th>\n",
       "      <th>Description</th>\n",
       "    </tr>\n",
       "  </thead>\n",
       "  <tbody>\n",
       "    <tr>\n",
       "      <th>0</th>\n",
       "      <td>ProteinID</td>\n",
       "      <td>TEXT</td>\n",
       "      <td>PRIMARY KEY</td>\n",
       "      <td>Unique Protein Identifier</td>\n",
       "    </tr>\n",
       "    <tr>\n",
       "      <th>1</th>\n",
       "      <td>ProtSeq</td>\n",
       "      <td>TEXT</td>\n",
       "      <td></td>\n",
       "      <td>Amino Acid Sequence</td>\n",
       "    </tr>\n",
       "  </tbody>\n",
       "</table>\n",
       "</div>"
      ],
      "text/plain": [
       "      Column  Type          Key                Description\n",
       "0  ProteinID  TEXT  PRIMARY KEY  Unique Protein Identifier\n",
       "1    ProtSeq  TEXT                     Amino Acid Sequence"
      ]
     },
     "execution_count": 141,
     "metadata": {},
     "output_type": "execute_result"
    }
   ],
   "source": [
    "proteins_data = [\n",
    "    (\"ProteinID\",\"TEXT\",\"PRIMARY KEY\",\"Unique Protein Identifier\"),\n",
    "    (\"ProtSeq\",\"TEXT\",\"\",\"Amino Acid Sequence\")\n",
    "]\n",
    "cursor.executemany(\"INSERT OR IGNORE INTO Proteins VALUES (?, ?, ?, ?)\", proteins_data,)\n",
    "pd.read_sql('''\n",
    "SELECT *\n",
    "FROM Proteins\n",
    "''', conn)\n"
   ]
  },
  {
   "cell_type": "code",
   "execution_count": 144,
   "metadata": {},
   "outputs": [
    {
     "data": {
      "text/html": [
       "<div>\n",
       "<style scoped>\n",
       "    .dataframe tbody tr th:only-of-type {\n",
       "        vertical-align: middle;\n",
       "    }\n",
       "\n",
       "    .dataframe tbody tr th {\n",
       "        vertical-align: top;\n",
       "    }\n",
       "\n",
       "    .dataframe thead th {\n",
       "        text-align: right;\n",
       "    }\n",
       "</style>\n",
       "<table border=\"1\" class=\"dataframe\">\n",
       "  <thead>\n",
       "    <tr style=\"text-align: right;\">\n",
       "      <th></th>\n",
       "      <th>Column</th>\n",
       "      <th>Type</th>\n",
       "      <th>Key</th>\n",
       "      <th>Description</th>\n",
       "    </tr>\n",
       "  </thead>\n",
       "  <tbody>\n",
       "    <tr>\n",
       "      <th>0</th>\n",
       "      <td>GoID</td>\n",
       "      <td>TEXT</td>\n",
       "      <td>PRIMARY KEY, FOREIGN KEY</td>\n",
       "      <td>Gene Ontology Identifier</td>\n",
       "    </tr>\n",
       "  </tbody>\n",
       "</table>\n",
       "</div>"
      ],
      "text/plain": [
       "  Column  Type                       Key               Description\n",
       "0   GoID  TEXT  PRIMARY KEY, FOREIGN KEY  Gene Ontology Identifier"
      ]
     },
     "execution_count": 144,
     "metadata": {},
     "output_type": "execute_result"
    }
   ],
   "source": [
    "annotations_data = [\n",
    "    (\"GoID\",\"TEXT\",\"PRIMARY KEY, FOREIGN KEY\",\"Gene Ontology Identifier\"),\n",
    "    (\"ProteinID\",\"TEXT\",\"PRIMARY KEY, FOREIGN KEY\",\"Unique Protein Identifier\")\n",
    "]\n",
    "cursor.executemany(\"INSERT OR IGNORE INTO Annotations VALUES (?, ?, ?, ?)\", annotations_data,)\n",
    "pd.read_sql('''\n",
    "SELECT *\n",
    "FROM Annotations\n",
    "''', conn)\n"
   ]
  },
  {
   "cell_type": "code",
   "execution_count": null,
   "metadata": {},
   "outputs": [],
   "source": []
  },
  {
   "cell_type": "code",
   "execution_count": null,
   "metadata": {},
   "outputs": [],
   "source": []
  },
  {
   "cell_type": "code",
   "execution_count": null,
   "metadata": {},
   "outputs": [],
   "source": []
  },
  {
   "cell_type": "markdown",
   "metadata": {
    "id": "JL8cJyrsegKv"
   },
   "source": [
    "## Q2. Define a function to extract all GO terms associated with a given amino acid sequence (ProtSeq), ensuring that the GO terms satisfy the following criteria: they are annotated with at least 50 proteins in MF and CC subgraphs, and 100 proteins in the BP subgraph.. **(10 Pts)**"
   ]
  },
  {
   "cell_type": "code",
   "execution_count": 26,
   "metadata": {
    "id": "IMr_WLBcegKv"
   },
   "outputs": [],
   "source": [
    "prot_seq = \"WYTWADEAHAKNIVMCFRMHGEAYEKAAVYMNRSPEFMGCRADNNDEYDV\" #  example protein sequence\n",
    "\n",
    "# function to extract the annotated GO terms with the above specs\n",
    "def extract_go_terms(prot_seq):\n",
    "    results = []\n",
    "    # ADD YOUR CODE HERE\n",
    "    return results"
   ]
  },
  {
   "cell_type": "markdown",
   "metadata": {
    "id": "czBmFAciegKw"
   },
   "source": [
    "## Q3. Print the averge number of annotations a GO terms has for each level in each subgraph (MF, CC, and BP) **(10 Pts)**"
   ]
  },
  {
   "cell_type": "code",
   "execution_count": 27,
   "metadata": {
    "id": "nz_Xtb8zegKw"
   },
   "outputs": [],
   "source": [
    "# Print the avg # of annots\n"
   ]
  },
  {
   "cell_type": "markdown",
   "metadata": {
    "id": "M__1fjDJegKw"
   },
   "source": [
    "## Q4. Identify the ProteinID with the longest ProtSeq within the Proteins table. Modify its ProtSeq to half its original length by trimming the sequence, update the ProteinID to \"trimmed\", and display the updated ProteinID and ProtSeq with its GO Term annotations. **(10 Pts)**"
   ]
  },
  {
   "cell_type": "code",
   "execution_count": 28,
   "metadata": {
    "id": "ttKuAl8uegKw"
   },
   "outputs": [],
   "source": [
    "# find and trim the longest sequence, displaying the updated ProtID and ProtSeq, and its annotated GO Terms"
   ]
  },
  {
   "cell_type": "markdown",
   "metadata": {
    "id": "3ZGIarBUegKw"
   },
   "source": [
    "# PLAGIARISM\n",
    "All work on assignments must be done individually. You are encouraged to discuss\n",
    "the given assignments with your classmates, but these discussions should be carried out\n",
    "in an abstract way. That is, discussions related to a particular solution to a specific prob-\n",
    "lem (either in actual code or in pseudocode) will not be tolerated. In short, turning\n",
    "in someone else’s work (including work available on the internet), in whole or in part, as\n",
    "your own will be considered as a violation of academic integrity. Please note that the\n",
    "former conditions also hold for the material attained using AI tools, including ChatGPT,\n",
    "GitHub Copilot, etc."
   ]
  },
  {
   "cell_type": "markdown",
   "metadata": {},
   "source": [
    "# ACKNOWLEDGEMENT\n",
    "In certain sections of this study, I utilized the AI tool ChatGPT, AIN212 course slides, AIN214 lab materials\n",
    "and Google translate to enhance my understanding."
   ]
  },
  {
   "cell_type": "code",
   "execution_count": null,
   "metadata": {},
   "outputs": [],
   "source": []
  }
 ],
 "metadata": {
  "colab": {
   "provenance": []
  },
  "kernelspec": {
   "display_name": "Python 3 (ipykernel)",
   "language": "python",
   "name": "python3"
  },
  "language_info": {
   "codemirror_mode": {
    "name": "ipython",
    "version": 3
   },
   "file_extension": ".py",
   "mimetype": "text/x-python",
   "name": "python",
   "nbconvert_exporter": "python",
   "pygments_lexer": "ipython3",
   "version": "3.9.12"
  }
 },
 "nbformat": 4,
 "nbformat_minor": 1
}
