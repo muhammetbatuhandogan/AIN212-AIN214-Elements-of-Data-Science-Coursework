{
 "cells": [
  {
   "cell_type": "markdown",
   "metadata": {
    "id": "kWazXgpIe_Ku"
   },
   "source": [
    "# AIN 214 - PA2 - FALL 2023\n",
    "\n",
    "BELOW MD CELLS CONTAIN THE QUESTIONS YOU ARE ASKED TO IMPLEMENT WITHIN THE CONTEXT OF THIS HW. PLEASE FILL IN THE CELLS FOR THE ANSWERS RIGHT BELOW THE MD CELL OF THE QUESTION. YOU CAN ADD AS MANY CELLS AS YOU WANT, BE IT CODE OR MD, SO LONG AS YOU PROVIDE AN UNDERSTANDABLE AND TRACBLE REPORTING. PLEASE ADD COMMENTS ON YOUR CODES. ALSO, FILL IN MD CELLS WHERE YOU ARE ASKED YO COMMENT ON YOUR RESULTS OR EPXLAIN YOUR REASONING. ALSO, PLEASE DO NO HESITATE TO USE THEM FOR YOUR OWN REPORTING PURPOSES. PLEASE KEEP IN MIND THAT REPORTING IS A KEY STEP IN DATA SCIENCE.\n",
    "\n",
    "Deadline: 17.11.2023 (23:59:59)\n",
    "\n",
    "Submission: Submit your Jupyter Notebooks via https://submit.cs.hacettepe.edu.tr/"
   ]
  },
  {
   "cell_type": "markdown",
   "metadata": {
    "id": "iEDZ_Br5e_Kz"
   },
   "source": [
    "# THE STUDENT INFO\n",
    "# Student Name: Muhammet Batuhan Doğan\n",
    "# Student ID: 2210765004"
   ]
  },
  {
   "cell_type": "code",
   "execution_count": 126,
   "metadata": {
    "id": "akD8_dFNe_Kz"
   },
   "outputs": [],
   "source": [
    "import pandas as pd\n",
    "import os\n",
    "import matplotlib.pyplot as plt\n",
    "import seaborn as sns\n",
    "import numpy as np\n",
    "import sqlite3"
   ]
  },
  {
   "cell_type": "markdown",
   "metadata": {
    "id": "79js81LNe_K1"
   },
   "source": [
    "# 1st SET OF QUESTIONS: Skyward Travel Agency Data Management Project\n",
    "\n",
    "Skyward is a premier travel agency aiming to provide seamless experiences for its clients. As business is booming, the agency has a myriad of data points to keep track of, and they need an efficient way to manage it all. Here's what they're dealing with:\n",
    "\n",
    "- **Clients' Database**: Skyward has a growing list of clients. For each client, they maintain records of their full name, contact email, and phone number. Every client is assigned a unique client ID for efficient tracking and personalized service.\n",
    "\n",
    "- **Airline Partnerships**: Skyward has collaborations with several airline companies, each identified by a unique airline ID. Beyond just names, they have comprehensive details of all the flights offered by these airline companies. This flight data includes flight numbers, associated airline IDs, departure cities, destinations, and dates of operation.\n",
    "\n",
    "- **Hotel Affiliations**: Skyward's clients need places to stay, leading to collaborations with multiple hotels. Each hotel is cataloged with a unique ID, alongside its name, geographical location, and a client feedback rating ranging from 1 to 5.\n",
    "\n",
    "- **Travel Bookings**: Skyward's primary service involves facilitating travel bookings. Every booking, be it for a flight or hotel, gets recorded. Flight bookings include the specific flight number, the client's ID making the booking, and the booking date. Hotel bookings aren't any different with records of the hotel ID, the client's ID, and the duration of stay (check-in and check-out dates).\n",
    "\n",
    "- **Feedback Mechanism**: Feedback drives Skyward's quality assurance. Clients are encouraged to leave reviews post their trips. For airlines, each review captures the client's ID, the reviewed airline's ID, and the feedback text. Hotel feedback mirrors this, substituting airlines for hotels.\n",
    "\n",
    "**Data Provision:**\n",
    "You are provided with unnormalized `feedback_details_df` and `bookings_df` datasets in the form of CSV files.\n",
    "\n",
    "**Your Task**:\n",
    "\n",
    "You should design your own DB schema meeting the above-stated constraints. There are multiple ways to design your tables; you only need to ensure that the design fits the outlined requirements. Begin by clearly defining your schema as tables. Once the schema is established, you will tackle a set of SQL tasks that will be provided separately. The SQL tasks will involve writing queries to extract, modify, or add data based on the designed schema. Good luck!\n",
    "\n",
    "**Note: Use sqite3 python package for DB**\n"
   ]
  },
  {
   "cell_type": "markdown",
   "metadata": {
    "id": "O7He2ju6e_K2"
   },
   "source": [
    "## Q1. Design your schema as tables. Draw the necessary tables with the appropriate attributes. State the primary keys, foreign keys (and their references). Create the tables in your schema in the database. (10 Points)\n",
    "\n"
   ]
  },
  {
   "cell_type": "markdown",
   "metadata": {
    "id": "3LCW_0ZTe_K2"
   },
   "source": [
    "| Table            | Field          | Type/Constraints                   |\n",
    "|------------------|----------------|------------------------------------|\n",
    "| Clients          | CustomerID      | PK, int                           |\n",
    "|                  | CustomerName      | TEXT                            |\n",
    "|                  | CustomerEmail  | TEXT                               |\n",
    "|                  | CustomerPhone   | TEXT                              |\n",
    "|------------------|----------------|------------------------------------|\n",
    "| Airline_Partnerships | AirplaneID | PK, int                            |\n",
    "|                  | AirlineName   | TEXT                                |\n",
    "|------------------|----------------|------------------------------------|\n",
    "| Flights          | FlightID  | PK, int                                 |\n",
    "|                  | AirplaneID     | FK (Airline_Partnerships), int     |\n",
    "|                  | Flight_Departure | TEXT                             |\n",
    "|                  | Flight_Destination   | TEXT                         |\n",
    "|                  | Flight_Date | DATE                                  |\n",
    "|------------------|----------------|------------------------------------|\n",
    "| Hotels           | HotelID       | PK, int                             |\n",
    "|                  | HotelName     | TEXT                                |\n",
    "|                  | HotelLocation       | TEXT                          |\n",
    "|                  | HotelRating| INTEGER                                |\n",
    "|------------------|----------------|------------------------------------|\n",
    "| Travel_Bookings  | BookingID      | PK, int                            |\n",
    "|                  | CustomerID     | FK (Clients), int                  |\n",
    "|                  | FlightID       | FK (Flights), int                  |\n",
    "|                  | HotelID       | FK (Hotels), int                    |\n",
    "|------------------|----------------|------------------------------------|\n",
    "| Feedback         | feedback_id    | PK, int                            |\n",
    "|                  | CustomerID      | FK (Clients), int                 |\n",
    "|                  | AirlineID     | FK (Airline_Partnerships), int     |\n",
    "|                  | HotelID       | FK (Hotels), int                    |\n",
    "|                  | Review          | TEXT                              |\n",
    "|------------------|----------------|------------------------------------|\n",
    "\n"
   ]
  },
  {
   "cell_type": "markdown",
   "metadata": {},
   "source": [
    "i write also single-line representation of each table's schema\n",
    "\n",
    "Clients Table: CustomerID (PK, int), CustomerName (TEXT), CustomerEmail (TEXT), CustomerPhone (TEXT)\n",
    "\n",
    "Airline_Partnerships Table: AirplaneID (PK, int), AirlineName (TEXT)\n",
    "\n",
    "Flights Table: FlightID (PK, int), AirplaneID (FK Airline_Partnerships), Flight_Departure (TEXT), Flight_Destination (TEXT), \n",
    "Flight_Date (DATE)\n",
    "\n",
    "Hotels Table: HotelID (PK, int), HotelName (TEXT), HotelLocation (TEXT), HotelRating (INTEGER)\n",
    "\n",
    "Travel_Bookings Table: BookingID (PK, int), CustomerID (FK Clients), FlightID (FK Flights), HotelID (FK Hotels)\n",
    "\n",
    "Feedback Table: feedback_id (PK, int), CustomerID (FK Clients), AirlineID (FK Airline\n"
   ]
  },
  {
   "cell_type": "code",
   "execution_count": 134,
   "metadata": {},
   "outputs": [],
   "source": [
    "conn = sqlite3.connect('Skyward_memory.db')  # i use 'Skyward_memory' to create  database.\n",
    "cursor = conn.cursor() \n",
    "# i load csv file into df.\n",
    "booking_details_df = pd.read_csv('BookingDetails.csv')\n",
    "feedback_df = pd.read_csv('FeedbackDetails.csv')\n",
    "\n",
    "# i choose specific columns for my table schema.\n",
    "Clients = ['CustomerID', 'CustomerName', 'CustomerEmail', 'CustomerPhone']\n",
    "Airline_Partnerships = ['AirplaneID', 'AirlineName']\n",
    "Flights  = ['FlightID', 'AirplaneID', 'Flight_Departure', 'Flight_Destination', 'Flight_Date']\n",
    "Hotels = ['HotelID', 'HotelName','HotelLocation', 'HotelRating']\n",
    "Travel_Bookings = ['BookingID', 'CustomerID','FlightID', 'HotelID']\n",
    "Feedback = ['FeedbackID', 'CustomerID', 'AirlineID','HotelID', 'Review']\n",
    "\n",
    "# i created new dataframe \n",
    "selected_data_df1 = booking_details_df[Clients]\n",
    "selected_data_df2= booking_details_df[Airline_Partnerships]\n",
    "selected_data_df3 = booking_details_df[Flights]\n",
    "selected_data_df4 = booking_details_df[Hotels]\n",
    "selected_data_df5 = booking_details_df[Travel_Bookings]\n",
    "selected_data_df6 = feedback_df[Feedback]\n",
    "\n",
    "\n",
    "selected_data_df1.to_sql('Clients', conn, if_exists='replace', index=False) # i insert data into Clients table.\n",
    "selected_data_df2.to_sql('Airline_Partnerships', conn, if_exists='replace', index=False) #i insert data into Airline_Partnerships table.\n",
    "selected_data_df3.to_sql('Flights', conn, if_exists='replace', index=False)# i insert data into Flights table.\n",
    "selected_data_df4.to_sql('Hotels', conn, if_exists='replace', index=False)# i insert data into Hotels table.\n",
    "selected_data_df5.to_sql('Travel_Bookings', conn, if_exists='replace', index=False)# i insert data into Travel_Bookings table.\n",
    "selected_data_df6.to_sql('Feedback', conn, if_exists='replace', index=False)# i insert data into Feedback table.\n",
    "\n",
    "conn.commit()\n",
    "conn.close()\n"
   ]
  },
  {
   "cell_type": "markdown",
   "metadata": {
    "id": "ATfUyvwZe_K3"
   },
   "source": [
    "## Q2. Find the total number of bookings made for each hotel. Display the hotel name and the corresponding number of bookings. (10 Points)"
   ]
  },
  {
   "cell_type": "code",
   "execution_count": 135,
   "metadata": {
    "id": "QgyqykHYe_K3"
   },
   "outputs": [
    {
     "name": "stdout",
     "output_type": "stream",
     "text": [
      "    HotelID          HotelName  NumberofBookings\n",
      "0       NaN               None                 0\n",
      "1    1464.0         Opal Motel               121\n",
      "2    1513.0      Diamond Plaza                36\n",
      "3    1610.0      Golden Suites               256\n",
      "4    1647.0       Silver Villa               100\n",
      "5    1919.0      Emerald Motel               225\n",
      "6    2035.0     Sapphire Villa               196\n",
      "7    2049.0         Jade Motel                25\n",
      "8    2206.0        Jade Suites                49\n",
      "9    2504.0       Pearl Resort               144\n",
      "10   2525.0     Emerald Resort                81\n",
      "11   2769.0         Golden Inn               196\n",
      "12   3096.0        Jade Resort               121\n",
      "13   3107.0      Silver Palace                64\n",
      "14   3378.0      Silver Resort               225\n",
      "15   3670.0      Diamond Villa               100\n",
      "16   3678.0     Sapphire Villa                64\n",
      "17   4024.0     Diamond Resort               225\n",
      "18   4147.0     Pearl Hideaway                64\n",
      "19   4340.0        Opal Suites                81\n",
      "20   4365.0     Golden Retreat                49\n",
      "21   4656.0         Opal Plaza               100\n",
      "22   4733.0      Ruby Hideaway                64\n",
      "23   4781.0           Opal Inn                16\n",
      "24   4857.0        Diamond Inn               196\n",
      "25   4927.0        Jade Suites               100\n",
      "26   5095.0  Sapphire Hideaway               100\n",
      "27   5346.0        Pearl Lodge                25\n",
      "28   5769.0      Golden Resort               144\n",
      "29   5939.0     Diamond Suites               100\n",
      "30   5991.0      Golden Resort                36\n",
      "31   5994.0         Jade Lodge                81\n",
      "32   6064.0    Golden Hideaway                81\n",
      "33   6234.0         Opal Motel                16\n",
      "34   6879.0        Diamond Inn               225\n",
      "35   6921.0         Ruby Plaza                64\n",
      "36   6925.0        Ruby Palace                64\n",
      "37   7284.0       Jade Retreat                81\n",
      "38   7414.0        Pearl Motel                49\n",
      "39   7428.0      Crystal Motel               121\n",
      "40   7512.0    Sapphire Suites               121\n",
      "41   7675.0    Silver Hideaway               121\n",
      "42   7704.0        Pearl Plaza                64\n",
      "43   7742.0       Golden Villa               100\n",
      "44   8281.0        Diamond Inn               196\n",
      "45   8577.0     Emerald Palace               196\n",
      "46   8596.0       Golden Lodge                64\n",
      "47   8617.0        Ruby Resort                49\n",
      "48   9177.0     Sapphire Motel               144\n",
      "49   9529.0       Golden Plaza                64\n",
      "50   9627.0        Jade Suites                36\n"
     ]
    }
   ],
   "source": [
    "conn = sqlite3.connect('Skyward_memory.db')\n",
    "# i write query find the total number of bookings made for each hotel\n",
    "query = '''\n",
    "    SELECT Hotels.HotelID, Hotels.HotelName, COUNT(Travel_Bookings.BookingID) as NumberofBookings\n",
    "    FROM Hotels\n",
    "    LEFT JOIN Travel_Bookings ON Hotels.HotelID = Travel_Bookings.HotelID\n",
    "    GROUP BY Hotels.HotelID, Hotels.HotelName;\n",
    "'''\n",
    "\n",
    "# i execute the query\n",
    "result = pd.read_sql_query(query, conn)\n",
    "\n",
    "# i display the result\n",
    "print(result)\n",
    "\n",
    "# i close the connection.\n",
    "conn.close()"
   ]
  },
  {
   "cell_type": "markdown",
   "metadata": {
    "id": "Vo-z5zvhe_K5"
   },
   "source": [
    "## Q3. Retrieve the name and contact details of clients who have provided feedback for both flights and hotels. Ensure there are no duplicate entries in your result. (10 Points)\n"
   ]
  },
  {
   "cell_type": "code",
   "execution_count": 136,
   "metadata": {
    "id": "sDE1Fv3qe_K5"
   },
   "outputs": [
    {
     "data": {
      "text/html": [
       "<div>\n",
       "<style scoped>\n",
       "    .dataframe tbody tr th:only-of-type {\n",
       "        vertical-align: middle;\n",
       "    }\n",
       "\n",
       "    .dataframe tbody tr th {\n",
       "        vertical-align: top;\n",
       "    }\n",
       "\n",
       "    .dataframe thead th {\n",
       "        text-align: right;\n",
       "    }\n",
       "</style>\n",
       "<table border=\"1\" class=\"dataframe\">\n",
       "  <thead>\n",
       "    <tr style=\"text-align: right;\">\n",
       "      <th></th>\n",
       "      <th>CustomerName</th>\n",
       "      <th>CustomerEmail</th>\n",
       "      <th>CustomerPhone</th>\n",
       "    </tr>\n",
       "  </thead>\n",
       "  <tbody>\n",
       "    <tr>\n",
       "      <th>0</th>\n",
       "      <td>Sophia Rodriguez</td>\n",
       "      <td>sophia.rodriguez@mail.com</td>\n",
       "      <td>555-7717570</td>\n",
       "    </tr>\n",
       "    <tr>\n",
       "      <th>1</th>\n",
       "      <td>Ava Jones</td>\n",
       "      <td>ava.jones@mail.com</td>\n",
       "      <td>555-2606180</td>\n",
       "    </tr>\n",
       "    <tr>\n",
       "      <th>2</th>\n",
       "      <td>Logan Garcia</td>\n",
       "      <td>logan.garcia@mail.com</td>\n",
       "      <td>555-8723852</td>\n",
       "    </tr>\n",
       "    <tr>\n",
       "      <th>3</th>\n",
       "      <td>Sophia Jones</td>\n",
       "      <td>sophia.jones@mail.com</td>\n",
       "      <td>555-5176700</td>\n",
       "    </tr>\n",
       "    <tr>\n",
       "      <th>4</th>\n",
       "      <td>Sophia Johnson</td>\n",
       "      <td>sophia.johnson@mail.com</td>\n",
       "      <td>555-8333408</td>\n",
       "    </tr>\n",
       "    <tr>\n",
       "      <th>...</th>\n",
       "      <td>...</td>\n",
       "      <td>...</td>\n",
       "      <td>...</td>\n",
       "    </tr>\n",
       "    <tr>\n",
       "      <th>104</th>\n",
       "      <td>Ava Davis</td>\n",
       "      <td>ava.davis@mail.com</td>\n",
       "      <td>555-4376898</td>\n",
       "    </tr>\n",
       "    <tr>\n",
       "      <th>105</th>\n",
       "      <td>Mia Williams</td>\n",
       "      <td>mia.williams@mail.com</td>\n",
       "      <td>555-4798996</td>\n",
       "    </tr>\n",
       "    <tr>\n",
       "      <th>106</th>\n",
       "      <td>Sophia Johnson</td>\n",
       "      <td>sophia.johnson@mail.com</td>\n",
       "      <td>555-2448547</td>\n",
       "    </tr>\n",
       "    <tr>\n",
       "      <th>107</th>\n",
       "      <td>Liam Jones</td>\n",
       "      <td>liam.jones@mail.com</td>\n",
       "      <td>555-3294076</td>\n",
       "    </tr>\n",
       "    <tr>\n",
       "      <th>108</th>\n",
       "      <td>Sophia Garcia</td>\n",
       "      <td>sophia.garcia@mail.com</td>\n",
       "      <td>555-1797618</td>\n",
       "    </tr>\n",
       "  </tbody>\n",
       "</table>\n",
       "<p>109 rows × 3 columns</p>\n",
       "</div>"
      ],
      "text/plain": [
       "         CustomerName              CustomerEmail CustomerPhone\n",
       "0    Sophia Rodriguez  sophia.rodriguez@mail.com   555-7717570\n",
       "1           Ava Jones         ava.jones@mail.com   555-2606180\n",
       "2        Logan Garcia      logan.garcia@mail.com   555-8723852\n",
       "3        Sophia Jones      sophia.jones@mail.com   555-5176700\n",
       "4      Sophia Johnson    sophia.johnson@mail.com   555-8333408\n",
       "..                ...                        ...           ...\n",
       "104         Ava Davis         ava.davis@mail.com   555-4376898\n",
       "105      Mia Williams      mia.williams@mail.com   555-4798996\n",
       "106    Sophia Johnson    sophia.johnson@mail.com   555-2448547\n",
       "107        Liam Jones        liam.jones@mail.com   555-3294076\n",
       "108     Sophia Garcia     sophia.garcia@mail.com   555-1797618\n",
       "\n",
       "[109 rows x 3 columns]"
      ]
     },
     "execution_count": 136,
     "metadata": {},
     "output_type": "execute_result"
    }
   ],
   "source": [
    "conn = sqlite3.connect('Skyward_memory.db')  \n",
    "\n",
    "# i write query to retrieve the name and contact details of clients who have provided feedback for both flights and hotels\n",
    "query = \"\"\"\n",
    "    SELECT DISTINCT C.CustomerName, C.CustomerEmail, C.CustomerPhone\n",
    "    FROM Clients C\n",
    "    JOIN Feedback F ON C.CustomerID = F.CustomerID\n",
    "    WHERE EXISTS (\n",
    "        SELECT 1\n",
    "        FROM Feedback F1\n",
    "        WHERE F1.CustomerID = F.CustomerID AND F1.AirlineID IS NOT NULL\n",
    "    )\n",
    "    AND EXISTS (\n",
    "        SELECT 1\n",
    "        FROM Feedback F2\n",
    "        WHERE F2.CustomerID = F.CustomerID AND F2.HotelID IS NOT NULL\n",
    "    );\n",
    "\"\"\"\n",
    "\n",
    "# i execute the query and fetch the result into a dataframe\n",
    "result_df = pd.read_sql_query(query, conn)\n",
    "\n",
    "# i display the result\n",
    "result_df"
   ]
  },
  {
   "cell_type": "markdown",
   "metadata": {
    "id": "bbEqAgxJe_K5"
   },
   "source": [
    "## Q4. Identify hotels that have a feedback rating lower than the average feedback rating across all hotels. List their names and ratings. (10 Points)\n"
   ]
  },
  {
   "cell_type": "code",
   "execution_count": 137,
   "metadata": {},
   "outputs": [
    {
     "name": "stdout",
     "output_type": "stream",
     "text": [
      "average feedback rating across all hotels is: 3.3586065573770494\n"
     ]
    }
   ],
   "source": [
    "conn = sqlite3.connect('Skyward_memory.db')  \n",
    "# i write query to find average feedback rating across all hotels\n",
    "query = \"SELECT AVG(HotelRating) AS AverageRating FROM Hotels;\"\n",
    "\n",
    "average_rating_df = pd.read_sql_query(query, conn)\n",
    "\n",
    "average_rating = average_rating_df['AverageRating'].values[0]\n",
    "print(f\"average feedback rating across all hotels is: {average_rating}\")"
   ]
  },
  {
   "cell_type": "markdown",
   "metadata": {},
   "source": [
    "in there i calculated average rating for all hotels and then use it where hotel rating part."
   ]
  },
  {
   "cell_type": "code",
   "execution_count": 138,
   "metadata": {
    "id": "INHfEsNve_K5"
   },
   "outputs": [
    {
     "data": {
      "text/html": [
       "<div>\n",
       "<style scoped>\n",
       "    .dataframe tbody tr th:only-of-type {\n",
       "        vertical-align: middle;\n",
       "    }\n",
       "\n",
       "    .dataframe tbody tr th {\n",
       "        vertical-align: top;\n",
       "    }\n",
       "\n",
       "    .dataframe thead th {\n",
       "        text-align: right;\n",
       "    }\n",
       "</style>\n",
       "<table border=\"1\" class=\"dataframe\">\n",
       "  <thead>\n",
       "    <tr style=\"text-align: right;\">\n",
       "      <th></th>\n",
       "      <th>HotelName</th>\n",
       "      <th>HotelRating</th>\n",
       "    </tr>\n",
       "  </thead>\n",
       "  <tbody>\n",
       "    <tr>\n",
       "      <th>0</th>\n",
       "      <td>Pearl Resort</td>\n",
       "      <td>2.0</td>\n",
       "    </tr>\n",
       "    <tr>\n",
       "      <th>1</th>\n",
       "      <td>Golden Resort</td>\n",
       "      <td>3.0</td>\n",
       "    </tr>\n",
       "    <tr>\n",
       "      <th>2</th>\n",
       "      <td>Ruby Palace</td>\n",
       "      <td>1.0</td>\n",
       "    </tr>\n",
       "    <tr>\n",
       "      <th>3</th>\n",
       "      <td>Golden Resort</td>\n",
       "      <td>1.0</td>\n",
       "    </tr>\n",
       "    <tr>\n",
       "      <th>4</th>\n",
       "      <td>Golden Villa</td>\n",
       "      <td>3.0</td>\n",
       "    </tr>\n",
       "    <tr>\n",
       "      <th>5</th>\n",
       "      <td>Sapphire Suites</td>\n",
       "      <td>2.0</td>\n",
       "    </tr>\n",
       "    <tr>\n",
       "      <th>6</th>\n",
       "      <td>Opal Plaza</td>\n",
       "      <td>2.0</td>\n",
       "    </tr>\n",
       "    <tr>\n",
       "      <th>7</th>\n",
       "      <td>Diamond Plaza</td>\n",
       "      <td>2.0</td>\n",
       "    </tr>\n",
       "    <tr>\n",
       "      <th>8</th>\n",
       "      <td>Diamond Inn</td>\n",
       "      <td>2.0</td>\n",
       "    </tr>\n",
       "    <tr>\n",
       "      <th>9</th>\n",
       "      <td>Golden Hideaway</td>\n",
       "      <td>3.0</td>\n",
       "    </tr>\n",
       "    <tr>\n",
       "      <th>10</th>\n",
       "      <td>Jade Resort</td>\n",
       "      <td>2.0</td>\n",
       "    </tr>\n",
       "    <tr>\n",
       "      <th>11</th>\n",
       "      <td>Golden Inn</td>\n",
       "      <td>3.0</td>\n",
       "    </tr>\n",
       "    <tr>\n",
       "      <th>12</th>\n",
       "      <td>Golden Lodge</td>\n",
       "      <td>2.0</td>\n",
       "    </tr>\n",
       "    <tr>\n",
       "      <th>13</th>\n",
       "      <td>Jade Motel</td>\n",
       "      <td>2.0</td>\n",
       "    </tr>\n",
       "    <tr>\n",
       "      <th>14</th>\n",
       "      <td>Sapphire Villa</td>\n",
       "      <td>2.0</td>\n",
       "    </tr>\n",
       "    <tr>\n",
       "      <th>15</th>\n",
       "      <td>Opal Suites</td>\n",
       "      <td>1.0</td>\n",
       "    </tr>\n",
       "    <tr>\n",
       "      <th>16</th>\n",
       "      <td>Opal Inn</td>\n",
       "      <td>1.0</td>\n",
       "    </tr>\n",
       "    <tr>\n",
       "      <th>17</th>\n",
       "      <td>Pearl Lodge</td>\n",
       "      <td>1.0</td>\n",
       "    </tr>\n",
       "    <tr>\n",
       "      <th>18</th>\n",
       "      <td>Pearl Plaza</td>\n",
       "      <td>2.0</td>\n",
       "    </tr>\n",
       "    <tr>\n",
       "      <th>19</th>\n",
       "      <td>Emerald Resort</td>\n",
       "      <td>3.0</td>\n",
       "    </tr>\n",
       "    <tr>\n",
       "      <th>20</th>\n",
       "      <td>Silver Palace</td>\n",
       "      <td>2.0</td>\n",
       "    </tr>\n",
       "    <tr>\n",
       "      <th>21</th>\n",
       "      <td>Pearl Hideaway</td>\n",
       "      <td>1.0</td>\n",
       "    </tr>\n",
       "    <tr>\n",
       "      <th>22</th>\n",
       "      <td>Opal Motel</td>\n",
       "      <td>1.0</td>\n",
       "    </tr>\n",
       "    <tr>\n",
       "      <th>23</th>\n",
       "      <td>Ruby Resort</td>\n",
       "      <td>3.0</td>\n",
       "    </tr>\n",
       "    <tr>\n",
       "      <th>24</th>\n",
       "      <td>Golden Plaza</td>\n",
       "      <td>2.0</td>\n",
       "    </tr>\n",
       "    <tr>\n",
       "      <th>25</th>\n",
       "      <td>Opal Motel</td>\n",
       "      <td>2.0</td>\n",
       "    </tr>\n",
       "    <tr>\n",
       "      <th>26</th>\n",
       "      <td>Pearl Motel</td>\n",
       "      <td>3.0</td>\n",
       "    </tr>\n",
       "  </tbody>\n",
       "</table>\n",
       "</div>"
      ],
      "text/plain": [
       "          HotelName  HotelRating\n",
       "0      Pearl Resort          2.0\n",
       "1     Golden Resort          3.0\n",
       "2       Ruby Palace          1.0\n",
       "3     Golden Resort          1.0\n",
       "4      Golden Villa          3.0\n",
       "5   Sapphire Suites          2.0\n",
       "6        Opal Plaza          2.0\n",
       "7     Diamond Plaza          2.0\n",
       "8       Diamond Inn          2.0\n",
       "9   Golden Hideaway          3.0\n",
       "10      Jade Resort          2.0\n",
       "11       Golden Inn          3.0\n",
       "12     Golden Lodge          2.0\n",
       "13       Jade Motel          2.0\n",
       "14   Sapphire Villa          2.0\n",
       "15      Opal Suites          1.0\n",
       "16         Opal Inn          1.0\n",
       "17      Pearl Lodge          1.0\n",
       "18      Pearl Plaza          2.0\n",
       "19   Emerald Resort          3.0\n",
       "20    Silver Palace          2.0\n",
       "21   Pearl Hideaway          1.0\n",
       "22       Opal Motel          1.0\n",
       "23      Ruby Resort          3.0\n",
       "24     Golden Plaza          2.0\n",
       "25       Opal Motel          2.0\n",
       "26      Pearl Motel          3.0"
      ]
     },
     "execution_count": 138,
     "metadata": {},
     "output_type": "execute_result"
    }
   ],
   "source": [
    "conn = sqlite3.connect('Skyward_memory.db')  \n",
    "\n",
    "#i write the query to identify hotels with a feedback rating lower than average.\n",
    "query = \"\"\"\n",
    "    SELECT DISTINCT HotelName, HotelRating\n",
    "    FROM Hotels\n",
    "    WHERE HotelRating < (3.3586065573770494);\n",
    "\"\"\"\n",
    "\n",
    "result_df = pd.read_sql_query(query, conn)\n",
    "\n",
    "result_df\n",
    "\n",
    "\n"
   ]
  },
  {
   "cell_type": "markdown",
   "metadata": {
    "id": "77OqlARJe_K6"
   },
   "source": [
    "## Q5. Find clients who have stayed in at least three different hotels and flown with at least two different airlines. Display their names and total number of bookings. (10 Points)\n"
   ]
  },
  {
   "cell_type": "code",
   "execution_count": 139,
   "metadata": {
    "id": "PEZ1MbjMe_K6"
   },
   "outputs": [
    {
     "data": {
      "text/html": [
       "<div>\n",
       "<style scoped>\n",
       "    .dataframe tbody tr th:only-of-type {\n",
       "        vertical-align: middle;\n",
       "    }\n",
       "\n",
       "    .dataframe tbody tr th {\n",
       "        vertical-align: top;\n",
       "    }\n",
       "\n",
       "    .dataframe thead th {\n",
       "        text-align: right;\n",
       "    }\n",
       "</style>\n",
       "<table border=\"1\" class=\"dataframe\">\n",
       "  <thead>\n",
       "    <tr style=\"text-align: right;\">\n",
       "      <th></th>\n",
       "      <th>CustomerID</th>\n",
       "      <th>CustomerName</th>\n",
       "      <th>TotalBookings</th>\n",
       "    </tr>\n",
       "  </thead>\n",
       "  <tbody>\n",
       "  </tbody>\n",
       "</table>\n",
       "</div>"
      ],
      "text/plain": [
       "Empty DataFrame\n",
       "Columns: [CustomerID, CustomerName, TotalBookings]\n",
       "Index: []"
      ]
     },
     "execution_count": 139,
     "metadata": {},
     "output_type": "execute_result"
    }
   ],
   "source": [
    "conn = sqlite3.connect('Skyward_memory.db')  \n",
    "# SQL query to find clients who have stayed in at least three different hotels and flown with at least two different airlines\n",
    "query = \"\"\"\n",
    "    SELECT C.CustomerID, C.CustomerName, COUNT(DISTINCT TB.BookingID) AS TotalBookings\n",
    "    FROM Clients C\n",
    "    JOIN Travel_Bookings TB ON C.CustomerID = TB.CustomerID\n",
    "    JOIN Flights F ON TB.FlightID = F.FlightID\n",
    "    JOIN Hotels H ON TB.HotelID = H.HotelID\n",
    "    GROUP BY C.CustomerID, C.CustomerName\n",
    "    HAVING COUNT(DISTINCT H.HotelID) >= 3 AND COUNT(DISTINCT F.AirplaneID) >= 2;\n",
    "\"\"\"\n",
    "\n",
    "# i execute the query and fetch the result into a dataframe.\n",
    "result_df = pd.read_sql_query(query, conn)\n",
    "\n",
    "# i display the result\n",
    "result_df"
   ]
  },
  {
   "cell_type": "markdown",
   "metadata": {
    "id": "HtdsgOyFe_K6"
   },
   "source": [
    "## Q6 - **Bonus/Challenge**: Do the same in Q3 without using the keywords: \"HAVING\" and \"GROUP BY\". Make a comparison on the two processes (one using the aggregate operators and this)"
   ]
  },
  {
   "cell_type": "code",
   "execution_count": null,
   "metadata": {
    "id": "EblMQbYTe_K6"
   },
   "outputs": [],
   "source": []
  },
  {
   "cell_type": "markdown",
   "metadata": {
    "id": "HMZhLJvXe_K6"
   },
   "source": [
    "# 2nd SET OF QUESTIONS: DATA ANALYSIS WITH VISUALIZATION TOOLS\n",
    "\n",
    "In the 2nd part of this hw, you are to deal with the famous dataset of Titanic [1]. Answer the following questions, using visualization tools, and comment on your work."
   ]
  },
  {
   "cell_type": "markdown",
   "metadata": {
    "id": "3mpnoflme_K6"
   },
   "source": [
    "## Q1. Read the Titanic dataset into a DataFrame. Using a pivot table, analyze the survival rate by gender and class.\n"
   ]
  },
  {
   "cell_type": "code",
   "execution_count": 140,
   "metadata": {
    "id": "33P5EqQDe_K7"
   },
   "outputs": [
    {
     "data": {
      "text/html": [
       "<div>\n",
       "<style scoped>\n",
       "    .dataframe tbody tr th:only-of-type {\n",
       "        vertical-align: middle;\n",
       "    }\n",
       "\n",
       "    .dataframe tbody tr th {\n",
       "        vertical-align: top;\n",
       "    }\n",
       "\n",
       "    .dataframe thead th {\n",
       "        text-align: right;\n",
       "    }\n",
       "</style>\n",
       "<table border=\"1\" class=\"dataframe\">\n",
       "  <thead>\n",
       "    <tr style=\"text-align: right;\">\n",
       "      <th>Pclass</th>\n",
       "      <th>1</th>\n",
       "      <th>2</th>\n",
       "      <th>3</th>\n",
       "    </tr>\n",
       "    <tr>\n",
       "      <th>Sex</th>\n",
       "      <th></th>\n",
       "      <th></th>\n",
       "      <th></th>\n",
       "    </tr>\n",
       "  </thead>\n",
       "  <tbody>\n",
       "    <tr>\n",
       "      <th>female</th>\n",
       "      <td>0.968085</td>\n",
       "      <td>0.921053</td>\n",
       "      <td>0.500000</td>\n",
       "    </tr>\n",
       "    <tr>\n",
       "      <th>male</th>\n",
       "      <td>0.368852</td>\n",
       "      <td>0.157407</td>\n",
       "      <td>0.135447</td>\n",
       "    </tr>\n",
       "  </tbody>\n",
       "</table>\n",
       "</div>"
      ],
      "text/plain": [
       "Pclass         1         2         3\n",
       "Sex                                 \n",
       "female  0.968085  0.921053  0.500000\n",
       "male    0.368852  0.157407  0.135447"
      ]
     },
     "execution_count": 140,
     "metadata": {},
     "output_type": "execute_result"
    }
   ],
   "source": [
    "os.chdir(r'C:\\Users\\mbdn1\\Desktop') # i change my directory to access the file.\n",
    "\n",
    "titanic_df = pd.read_csv('titanic.csv') # read dataset to dataframe.\n",
    "\n",
    "\n",
    "\"\"\"to analyze the survival rate by gender and class i choose gender part as index and class part as columns,\n",
    "also i use an aggregation function which is mean to see survival rate.\"\"\"\n",
    "pivot_table = pd.pivot_table(titanic_df, values='Survived', index='Sex', columns='Pclass', aggfunc='mean')\n",
    "pivot_table\n"
   ]
  },
  {
   "cell_type": "markdown",
   "metadata": {
    "id": "bl9u-QQge_K7"
   },
   "source": [
    "## Q2. Create a histogram showcasing the age distribution of passengers. Overlay this with a KDE plot. Comment on the most common age group aboard the Titanic.\n"
   ]
  },
  {
   "cell_type": "code",
   "execution_count": 141,
   "metadata": {
    "id": "qW1qP9zOe_K7",
    "scrolled": true
   },
   "outputs": [
    {
     "data": {
      "image/png": "[encoded data removed]",
      "text/plain": [
       "<Figure size 720x432 with 1 Axes>"
      ]
     },
     "metadata": {
      "needs_background": "light"
     },
     "output_type": "display_data"
    }
   ],
   "source": [
    "titanic_df_age = titanic_df['Age'] # i get age column as a pd serie\n",
    "\n",
    "plt.figure(figsize=(10, 6)) # to set figure size.\n",
    "\n",
    "bin_width = 3.5 * titanic_df_age.std() / (len(titanic_df_age) ** (1/3)) # determine bin_width based on Scoot's Rule.\n",
    "num_bins = int((titanic_df_age.max() - titanic_df_age.min()) / bin_width) # determine num_bins based on Scoot's Rule.\n",
    "\n",
    "\n",
    "\n",
    "# i create  histogram using seaborn.\n",
    "sns.histplot(titanic_df_age, bins=num_bins, kde=True, color='green') # kde is true in there to see non parametric curve.\n",
    "\n",
    "# i add label's names and title\n",
    "plt.title('Age Distribution of Passengers')\n",
    "plt.xlabel('Age')\n",
    "plt.ylabel('Frequency')\n",
    "\n",
    "\n",
    "plt.show() # Show the plot"
   ]
  },
  {
   "cell_type": "code",
   "execution_count": 142,
   "metadata": {},
   "outputs": [
    {
     "data": {
      "text/plain": [
       "26.41839256803596"
      ]
     },
     "execution_count": 142,
     "metadata": {},
     "output_type": "execute_result"
    }
   ],
   "source": [
    "5*bin_width # to see starting point of most common age group aboard the Titanic."
   ]
  },
  {
   "cell_type": "code",
   "execution_count": 143,
   "metadata": {},
   "outputs": [
    {
     "data": {
      "text/plain": [
       "31.702071081643147"
      ]
     },
     "execution_count": 143,
     "metadata": {},
     "output_type": "execute_result"
    }
   ],
   "source": [
    "6*bin_width # to see ending point of most common age group aboard the Titanic."
   ]
  },
  {
   "cell_type": "markdown",
   "metadata": {},
   "source": [
    "# comment part\n",
    "Choosing the right number of bins and width i use Scoot's Rule there are most way to determine bin i tried some of them and i think most appropriate is Scoot's Rule.\n",
    "\n",
    "Most common age group aboard the Titanic is 6th bin for my visualization which start closely 26.42 and end 31.70 in there i want to round the numbers for  more interpretable and easier understanding so at the end i say the most common age group aboard the Titanic falls in the range of 26 to 32 years."
   ]
  },
  {
   "cell_type": "markdown",
   "metadata": {
    "id": "f4Qa8WO_e_K7"
   },
   "source": [
    "## Q3. Using a pie chart, illustrate the embarkation points for Titanic passengers. Identify the port with the highest boarding. Analyze the age and sex distribution from this port. Does this distribution reflect the \"women and children first\" evacuation policy?"
   ]
  },
  {
   "cell_type": "code",
   "execution_count": 144,
   "metadata": {},
   "outputs": [
    {
     "data": {
      "text/plain": [
       "S    644\n",
       "C    168\n",
       "Q     77\n",
       "Name: Embarked, dtype: int64"
      ]
     },
     "execution_count": 144,
     "metadata": {},
     "output_type": "execute_result"
    }
   ],
   "source": [
    "embarkation_counts = titanic_df['Embarked'].value_counts()\n",
    "embarkation_counts"
   ]
  },
  {
   "cell_type": "code",
   "execution_count": 145,
   "metadata": {
    "id": "__2LUKEie_K7"
   },
   "outputs": [
    {
     "data": {
      "image/png": "[encoded data removed]",
      "text/plain": [
       "<Figure size 504x504 with 1 Axes>"
      ]
     },
     "metadata": {},
     "output_type": "display_data"
    }
   ],
   "source": [
    "embarkation_counts = titanic_df['Embarked'].value_counts() # determine how many embarkation depend on category.\n",
    "\n",
    "# i plot the pie chart\n",
    "plt.figure(figsize=(7, 7)) # i set to size of the figure.\n",
    "\n",
    "\"\"\" in there embarkation_counts the data which i gonna pie chart. autopct is the decimal point decisive and startangle is the \n",
    "where first label start.\"\"\"\n",
    "plt.pie(embarkation_counts, labels=['Southampton (S)', 'Cherbourg (C)', 'Queenstown (Q)'], autopct='%1.1f%%', startangle=90, colors=['skyblue', 'lightcoral', 'lightgreen'])\n",
    "plt.title('Embarkation Points for Titanic Passengers')\n",
    "plt.show()\n",
    "\n",
    "\n"
   ]
  },
  {
   "cell_type": "code",
   "execution_count": 146,
   "metadata": {},
   "outputs": [
    {
     "name": "stdout",
     "output_type": "stream",
     "text": [
      "highest_boarding_port = S\n"
     ]
    }
   ],
   "source": [
    "# Identify the port with the highest boarding\n",
    "highest_boarding_port = embarkation_counts.idxmax()\n",
    "print(\"highest_boarding_port = \" + highest_boarding_port) # S Southampton.\n",
    "\n",
    "filtered_data = titanic_df[titanic_df['Embarked'] == highest_boarding_port] # filter data for Southampton.\n"
   ]
  },
  {
   "cell_type": "code",
   "execution_count": 147,
   "metadata": {},
   "outputs": [
    {
     "data": {
      "image/png": "[encoded data removed]",
      "text/plain": [
       "<Figure size 864x432 with 1 Axes>"
      ]
     },
     "metadata": {
      "needs_background": "light"
     },
     "output_type": "display_data"
    }
   ],
   "source": [
    "# Analyze age and sex distribution from this port\n",
    "plt.figure(figsize=(12, 6)) # i set to size of the figure.\n",
    "\n",
    "\"\"\" i use to determine bin Square-root choice which takes the square root of the number of data points in the sample\n",
    "and it closely 30. Also i use color coding a categorical attribute for can be effective\"\"\"\n",
    "sns.histplot(data=filtered_data, x='Age', hue='Sex', bins=30, multiple='stack', palette=['blue', 'orange']) \n",
    "plt.title(f'Age and Sex Distribution for Passengers Boarding from {highest_boarding_port}')\n",
    "plt.xlabel('Age')\n",
    "plt.ylabel('Frequency')\n",
    "plt.show()"
   ]
  },
  {
   "cell_type": "markdown",
   "metadata": {},
   "source": [
    "# the \"women and children first\" evacuation policy\n",
    "i observe this looking for my histogram there is no women and children first evacuation policy because clustering is more in the part where men are. Also for children it is similar clustering is more in the part where adults are."
   ]
  },
  {
   "cell_type": "markdown",
   "metadata": {
    "id": "lVfGKFove_K7"
   },
   "source": [
    "## Q4. Create a scatter plot comparing age and fare. Comment on any correlations or patterns you observe."
   ]
  },
  {
   "cell_type": "code",
   "execution_count": 148,
   "metadata": {
    "id": "5Z1oO1nte_K8"
   },
   "outputs": [
    {
     "data": {
      "image/png": "[encoded data removed]",
      "text/plain": [
       "<Figure size 1080x360 with 3 Axes>"
      ]
     },
     "metadata": {
      "needs_background": "light"
     },
     "output_type": "display_data"
    }
   ],
   "source": [
    "# i create scatter plot for each class.\n",
    "class1_data = titanic_df[titanic_df['Pclass'] == 1]\n",
    "class2_data = titanic_df[titanic_df['Pclass'] == 2]\n",
    "class3_data = titanic_df[titanic_df['Pclass'] == 3]\n",
    "\n",
    "# i set to figure size.\n",
    "plt.figure(figsize=(15, 5))\n",
    "\n",
    "# class 1 plot\n",
    "plt.subplot(1, 3, 1) # to indicate first subplot.\n",
    "sns.scatterplot(data=class1_data, x='Age', y='Fare', color='skyblue')\n",
    "plt.title('Class 1')\n",
    "plt.xlabel('Age')\n",
    "plt.ylabel('Fare')\n",
    "\n",
    "# class 2 plot\n",
    "plt.subplot(1, 3, 2)  # to indicate second subplot.\n",
    "sns.scatterplot(data=class2_data, x='Age', y='Fare', color='lightcoral')\n",
    "plt.title('Class 2')\n",
    "plt.xlabel('Age')\n",
    "plt.ylabel('Fare')\n",
    "\n",
    "# class 3 plot \n",
    "plt.subplot(1, 3, 3) # to indicate third subplot.\n",
    "sns.scatterplot(data=class3_data, x='Age', y='Fare', color='lightgreen')\n",
    "plt.title('Class 3')\n",
    "plt.xlabel('Age')\n",
    "plt.ylabel('Fare')\n",
    "\n",
    "plt.tight_layout() # to adjust layout.\n",
    "\n",
    "plt.show()"
   ]
  },
  {
   "cell_type": "markdown",
   "metadata": {},
   "source": [
    "# comment part\n",
    "\n",
    "The scatter plot illustrates the relationship between passengers' ages and their corresponding fares.\n",
    "\n",
    "For my plot class 1 and class 2 plots i may say correlation r < 0 but these r is not close to -1 i think it is about -0.1. so i do not directly say a relationship because it is really weak but maybe i say really weak negative relationships looks.Also there were outliers for these class.\n",
    "\n",
    "Class 3 plot a bit high correlation r (as a values high). we may not say moderate negative but we say weak negative correlation.\n",
    "\n"
   ]
  },
  {
   "cell_type": "markdown",
   "metadata": {
    "id": "6-U_nzHAe_K8"
   },
   "source": [
    "## Q5. Group the dataset by 'Embarked' and 'Pclass' and visualize the mean fare for each combination using a bar chart. Comment on the fare differences based on embarkation ports and classes.\n"
   ]
  },
  {
   "cell_type": "code",
   "execution_count": 123,
   "metadata": {
    "id": "v77RYlFfe_K8"
   },
   "outputs": [
    {
     "data": {
      "image/png": "[encoded data removed]",
      "text/plain": [
       "<Figure size 720x432 with 1 Axes>"
      ]
     },
     "metadata": {
      "needs_background": "light"
     },
     "output_type": "display_data"
    }
   ],
   "source": [
    "# i reset the index to make the result easier worki.\n",
    "grouped_data = titanic_df.groupby(['Embarked', 'Pclass'])['Fare'].mean().reset_index() \n",
    "\n",
    "# i create a bar chart\n",
    "plt.figure(figsize=(10, 6))\n",
    "sns.barplot(data=grouped_data, x='Embarked', y='Fare', hue='Pclass', palette='viridis')\n",
    "\n",
    "# tabel and label names\n",
    "plt.title('Mean Fare by Embarkation Port and Passenger Class')\n",
    "plt.xlabel('Embarkation Port')\n",
    "plt.ylabel('Mean Fare')\n",
    "\n",
    "# to indicate passenger class.\n",
    "plt.legend(title='Passenger Class')\n",
    "\n",
    "# Show the plot\n",
    "plt.show()"
   ]
  },
  {
   "cell_type": "markdown",
   "metadata": {},
   "source": [
    "# comment part \n",
    "Class 1 has more mean fare for each embarkation port.\n",
    "\n",
    "Class 3 has less mean fare for each embarkation port.\n",
    "\n",
    "If we list the fear for the embarkation port:C > Q > S \n",
    "\n"
   ]
  },
  {
   "cell_type": "markdown",
   "metadata": {
    "id": "lttA786ye_K8"
   },
   "source": [
    "# REFERENCES\n",
    "[1] Kaggle. (2023). Titanic: Machine Learning from Disaster [Data set]. Kaggle Inc. https://www.kaggle.com/c/titanic/data"
   ]
  },
  {
   "cell_type": "markdown",
   "metadata": {
    "id": "4DkGoaO1e_K8"
   },
   "source": [
    "# ACKNOWLEDGMENTS\n",
    "\n",
    "In certain sections of this study, I utilized the AI tool ChatGPT, AIN212 course slides, AIN214 lab materials\n",
    "and Google translate to enhance my understanding."
   ]
  },
  {
   "cell_type": "code",
   "execution_count": null,
   "metadata": {},
   "outputs": [],
   "source": []
  }
 ],
 "metadata": {
  "colab": {
   "provenance": []
  },
  "kernelspec": {
   "display_name": "Python 3 (ipykernel)",
   "language": "python",
   "name": "python3"
  },
  "language_info": {
   "codemirror_mode": {
    "name": "ipython",
    "version": 3
   },
   "file_extension": ".py",
   "mimetype": "text/x-python",
   "name": "python",
   "nbconvert_exporter": "python",
   "pygments_lexer": "ipython3",
   "version": "3.9.12"
  }
 },
 "nbformat": 4,
 "nbformat_minor": 1
}
